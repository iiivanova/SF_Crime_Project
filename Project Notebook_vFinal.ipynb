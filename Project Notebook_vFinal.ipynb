{
 "cells": [
  {
   "cell_type": "code",
   "execution_count": 88,
   "metadata": {
    "collapsed": true
   },
   "outputs": [],
   "source": [
    "import pandas as pd\n",
    "import numpy as np\n",
    "import matplotlib.pyplot as plt\n",
    "%matplotlib inline\n",
    "\n"
   ]
  },
  {
   "cell_type": "code",
   "execution_count": 89,
   "metadata": {
    "collapsed": false,
    "scrolled": true
   },
   "outputs": [
    {
     "data": {
      "text/html": [
       "<div>\n",
       "<table border=\"1\" class=\"dataframe\">\n",
       "  <thead>\n",
       "    <tr style=\"text-align: right;\">\n",
       "      <th></th>\n",
       "      <th>IncidntNum</th>\n",
       "      <th>Category</th>\n",
       "      <th>Descript</th>\n",
       "      <th>DayOfWeek</th>\n",
       "      <th>Date</th>\n",
       "      <th>Time</th>\n",
       "      <th>PdDistrict</th>\n",
       "      <th>Resolution</th>\n",
       "      <th>Address</th>\n",
       "      <th>X</th>\n",
       "      <th>Y</th>\n",
       "      <th>Location</th>\n",
       "      <th>PdId</th>\n",
       "    </tr>\n",
       "  </thead>\n",
       "  <tbody>\n",
       "    <tr>\n",
       "      <th>137462</th>\n",
       "      <td>70477746</td>\n",
       "      <td>ASSAULT</td>\n",
       "      <td>AGGRAVATED ASSAULT WITH A GUN</td>\n",
       "      <td>Wednesday</td>\n",
       "      <td>06/10/2015</td>\n",
       "      <td>11:00</td>\n",
       "      <td>SOUTHERN</td>\n",
       "      <td>NONE</td>\n",
       "      <td>5TH ST / HARRISON ST</td>\n",
       "      <td>-122.401846</td>\n",
       "      <td>37.779032</td>\n",
       "      <td>(37.7790324136251, -122.401846367522)</td>\n",
       "      <td>7047774604011</td>\n",
       "    </tr>\n",
       "    <tr>\n",
       "      <th>137463</th>\n",
       "      <td>81076498</td>\n",
       "      <td>MISSING PERSON</td>\n",
       "      <td>FOUND PERSON</td>\n",
       "      <td>Monday</td>\n",
       "      <td>03/28/2016</td>\n",
       "      <td>14:00</td>\n",
       "      <td>TARAVAL</td>\n",
       "      <td>NONE</td>\n",
       "      <td>2300 Block of 24TH AV</td>\n",
       "      <td>-122.481183</td>\n",
       "      <td>37.743727</td>\n",
       "      <td>(37.7437268170337, -122.48118317163)</td>\n",
       "      <td>8107649875000</td>\n",
       "    </tr>\n",
       "    <tr>\n",
       "      <th>137464</th>\n",
       "      <td>961392021</td>\n",
       "      <td>MISSING PERSON</td>\n",
       "      <td>FOUND PERSON</td>\n",
       "      <td>Wednesday</td>\n",
       "      <td>02/24/2016</td>\n",
       "      <td>00:01</td>\n",
       "      <td>SOUTHERN</td>\n",
       "      <td>EXCEPTIONAL CLEARANCE</td>\n",
       "      <td>800 Block of BRYANT ST</td>\n",
       "      <td>-122.403405</td>\n",
       "      <td>37.775421</td>\n",
       "      <td>(37.775420706711, -122.403404791479)</td>\n",
       "      <td>96139202175000</td>\n",
       "    </tr>\n",
       "    <tr>\n",
       "      <th>137465</th>\n",
       "      <td>961392021</td>\n",
       "      <td>NON-CRIMINAL</td>\n",
       "      <td>CASE CLOSURE</td>\n",
       "      <td>Wednesday</td>\n",
       "      <td>02/24/2016</td>\n",
       "      <td>00:01</td>\n",
       "      <td>SOUTHERN</td>\n",
       "      <td>EXCEPTIONAL CLEARANCE</td>\n",
       "      <td>800 Block of BRYANT ST</td>\n",
       "      <td>-122.403405</td>\n",
       "      <td>37.775421</td>\n",
       "      <td>(37.775420706711, -122.403404791479)</td>\n",
       "      <td>96139202175030</td>\n",
       "    </tr>\n",
       "    <tr>\n",
       "      <th>137466</th>\n",
       "      <td>981021761</td>\n",
       "      <td>WARRANTS</td>\n",
       "      <td>WARRANT ARREST</td>\n",
       "      <td>Wednesday</td>\n",
       "      <td>09/30/2015</td>\n",
       "      <td>23:53</td>\n",
       "      <td>NORTHERN</td>\n",
       "      <td>ARREST, BOOKED</td>\n",
       "      <td>OLIVE ST / VANNESS AV</td>\n",
       "      <td>-122.421097</td>\n",
       "      <td>37.784294</td>\n",
       "      <td>(37.7842937802977, -122.421096796936)</td>\n",
       "      <td>98102176163010</td>\n",
       "    </tr>\n",
       "  </tbody>\n",
       "</table>\n",
       "</div>"
      ],
      "text/plain": [
       "        IncidntNum        Category                       Descript  DayOfWeek  \\\n",
       "137462    70477746         ASSAULT  AGGRAVATED ASSAULT WITH A GUN  Wednesday   \n",
       "137463    81076498  MISSING PERSON                   FOUND PERSON     Monday   \n",
       "137464   961392021  MISSING PERSON                   FOUND PERSON  Wednesday   \n",
       "137465   961392021    NON-CRIMINAL                   CASE CLOSURE  Wednesday   \n",
       "137466   981021761        WARRANTS                 WARRANT ARREST  Wednesday   \n",
       "\n",
       "              Date   Time PdDistrict             Resolution  \\\n",
       "137462  06/10/2015  11:00   SOUTHERN                   NONE   \n",
       "137463  03/28/2016  14:00    TARAVAL                   NONE   \n",
       "137464  02/24/2016  00:01   SOUTHERN  EXCEPTIONAL CLEARANCE   \n",
       "137465  02/24/2016  00:01   SOUTHERN  EXCEPTIONAL CLEARANCE   \n",
       "137466  09/30/2015  23:53   NORTHERN         ARREST, BOOKED   \n",
       "\n",
       "                       Address           X          Y  \\\n",
       "137462    5TH ST / HARRISON ST -122.401846  37.779032   \n",
       "137463   2300 Block of 24TH AV -122.481183  37.743727   \n",
       "137464  800 Block of BRYANT ST -122.403405  37.775421   \n",
       "137465  800 Block of BRYANT ST -122.403405  37.775421   \n",
       "137466   OLIVE ST / VANNESS AV -122.421097  37.784294   \n",
       "\n",
       "                                     Location            PdId  \n",
       "137462  (37.7790324136251, -122.401846367522)   7047774604011  \n",
       "137463   (37.7437268170337, -122.48118317163)   8107649875000  \n",
       "137464   (37.775420706711, -122.403404791479)  96139202175000  \n",
       "137465   (37.775420706711, -122.403404791479)  96139202175030  \n",
       "137466  (37.7842937802977, -122.421096796936)  98102176163010  "
      ]
     },
     "execution_count": 89,
     "metadata": {},
     "output_type": "execute_result"
    }
   ],
   "source": [
    "incidents = pd.read_csv('../SF_Crime_Project/data/SFPD_Incidents.csv', sep=',')\n",
    "incidents.tail()"
   ]
  },
  {
   "cell_type": "code",
   "execution_count": 90,
   "metadata": {
    "collapsed": false
   },
   "outputs": [
    {
     "data": {
      "text/plain": [
       "137462   -122.401846\n",
       "Name: X, dtype: float64"
      ]
     },
     "execution_count": 90,
     "metadata": {},
     "output_type": "execute_result"
    }
   ],
   "source": [
    "incidents[incidents['IncidntNum']==70477746].X"
   ]
  },
  {
   "cell_type": "code",
   "execution_count": 91,
   "metadata": {
    "collapsed": false
   },
   "outputs": [
    {
     "data": {
      "text/plain": [
       "<matplotlib.legend.Legend at 0x131404d90>"
      ]
     },
     "execution_count": 91,
     "metadata": {},
     "output_type": "execute_result"
    },
    {
     "data": {
      "image/png": "[encoded data removed]",
      "text/plain": [
       "<matplotlib.figure.Figure at 0x131404a90>"
      ]
     },
     "metadata": {},
     "output_type": "display_data"
    }
   ],
   "source": [
    "incidents.Category.value_counts().plot(kind='bar', color = '#F1911E')\n",
    "ax1.set_ylabel(\"Category\")\n",
    "ax1.set_xlabel(\"DayOfWeek\")\n",
    "List_of_Categories = {'Category': ['LARCENY/THEFT', 'OTHER OFFENCES','NON-CRIMINAL','ASSAULT']}\n",
    "plt.legend(loc='List_of_Categories')"
   ]
  },
  {
   "cell_type": "code",
   "execution_count": 92,
   "metadata": {
    "collapsed": false
   },
   "outputs": [
    {
     "data": {
      "text/plain": [
       "NONE                                      96679\n",
       "ARREST, BOOKED                            36976\n",
       "UNFOUNDED                                  1523\n",
       "JUVENILE BOOKED                             867\n",
       "ARREST, CITED                               593\n",
       "EXCEPTIONAL CLEARANCE                       533\n",
       "CLEARED-CONTACT JUVENILE FOR MORE INFO      132\n",
       "PSYCHOPATHIC CASE                            77\n",
       "LOCATED                                      60\n",
       "NOT PROSECUTED                               21\n",
       "JUVENILE DIVERTED                             5\n",
       "COMPLAINANT REFUSES TO PROSECUTE              1\n",
       "Name: Resolution, dtype: int64"
      ]
     },
     "execution_count": 92,
     "metadata": {},
     "output_type": "execute_result"
    }
   ],
   "source": [
    "incidents.Resolution.value_counts()"
   ]
  },
  {
   "cell_type": "code",
   "execution_count": 95,
   "metadata": {
    "collapsed": false
   },
   "outputs": [
    {
     "data": {
      "text/plain": [
       "0.7032887893094343"
      ]
     },
     "execution_count": 95,
     "metadata": {},
     "output_type": "execute_result"
    }
   ],
   "source": [
    "#Null Hypothesis\n",
    "96679/137467."
   ]
  },
  {
   "cell_type": "code",
   "execution_count": 42,
   "metadata": {
    "collapsed": false
   },
   "outputs": [
    {
     "data": {
      "text/plain": [
       "(137467, 13)"
      ]
     },
     "execution_count": 42,
     "metadata": {},
     "output_type": "execute_result"
    }
   ],
   "source": [
    "incidents.shape"
   ]
  },
  {
   "cell_type": "code",
   "execution_count": 43,
   "metadata": {
    "collapsed": false
   },
   "outputs": [
    {
     "data": {
      "text/plain": [
       "IncidntNum    0\n",
       "Category      0\n",
       "Descript      0\n",
       "DayOfWeek     0\n",
       "Date          0\n",
       "Time          0\n",
       "PdDistrict    1\n",
       "Resolution    0\n",
       "Address       0\n",
       "X             0\n",
       "Y             0\n",
       "Location      0\n",
       "PdId          0\n",
       "dtype: int64"
      ]
     },
     "execution_count": 43,
     "metadata": {},
     "output_type": "execute_result"
    }
   ],
   "source": [
    "incidents.isnull().sum()"
   ]
  },
  {
   "cell_type": "code",
   "execution_count": 96,
   "metadata": {
    "collapsed": false
   },
   "outputs": [
    {
     "data": {
      "text/plain": [
       "<matplotlib.axes._subplots.AxesSubplot at 0x1313cbb50>"
      ]
     },
     "execution_count": 96,
     "metadata": {},
     "output_type": "execute_result"
    },
    {
     "data": {
      "image/png": "[encoded data removed]",
      "text/plain": [
       "<matplotlib.figure.Figure at 0x11fe7db10>"
      ]
     },
     "metadata": {},
     "output_type": "display_data"
    }
   ],
   "source": [
    "incidents['PdDistrict'].value_counts().plot(kind='bar', color= 'blue')"
   ]
  },
  {
   "cell_type": "code",
   "execution_count": 97,
   "metadata": {
    "collapsed": false
   },
   "outputs": [
    {
     "data": {
      "text/plain": [
       "PdDistrict  DayOfWeek\n",
       "BAYVIEW     Monday       1961\n",
       "            Thursday     1945\n",
       "            Friday       1939\n",
       "            Tuesday      1872\n",
       "            Wednesday    1838\n",
       "            Saturday     1780\n",
       "            Sunday       1719\n",
       "CENTRAL     Saturday     2639\n",
       "            Friday       2500\n",
       "            Wednesday    2227\n",
       "            Sunday       2215\n",
       "            Thursday     2198\n",
       "            Monday       2179\n",
       "            Tuesday      2143\n",
       "INGLESIDE   Friday       1738\n",
       "            Tuesday      1673\n",
       "            Wednesday    1654\n",
       "            Thursday     1636\n",
       "            Saturday     1584\n",
       "            Monday       1544\n",
       "            Sunday       1530\n",
       "MISSION     Friday       2393\n",
       "            Wednesday    2389\n",
       "            Sunday       2366\n",
       "            Thursday     2312\n",
       "            Saturday     2302\n",
       "            Tuesday      2299\n",
       "            Monday       2185\n",
       "NORTHERN    Saturday     2786\n",
       "            Friday       2766\n",
       "                         ... \n",
       "PARK        Thursday     1189\n",
       "            Sunday       1115\n",
       "RICHMOND    Friday       1258\n",
       "            Wednesday    1189\n",
       "            Thursday     1164\n",
       "            Saturday     1150\n",
       "            Monday       1085\n",
       "            Tuesday      1069\n",
       "            Sunday       1033\n",
       "SOUTHERN    Friday       4178\n",
       "            Saturday     4074\n",
       "            Thursday     3803\n",
       "            Wednesday    3769\n",
       "            Tuesday      3595\n",
       "            Monday       3571\n",
       "            Sunday       3500\n",
       "TARAVAL     Tuesday      1584\n",
       "            Thursday     1565\n",
       "            Wednesday    1517\n",
       "            Friday       1514\n",
       "            Monday       1474\n",
       "            Saturday     1404\n",
       "            Sunday       1355\n",
       "TENDERLOIN  Tuesday      1460\n",
       "            Wednesday    1400\n",
       "            Friday       1381\n",
       "            Thursday     1327\n",
       "            Monday       1278\n",
       "            Sunday       1240\n",
       "            Saturday     1226\n",
       "dtype: int64"
      ]
     },
     "execution_count": 97,
     "metadata": {},
     "output_type": "execute_result"
    }
   ],
   "source": [
    "incidents.groupby('PdDistrict')['DayOfWeek'].value_counts()"
   ]
  },
  {
   "cell_type": "code",
   "execution_count": 98,
   "metadata": {
    "collapsed": false
   },
   "outputs": [
    {
     "data": {
      "text/html": [
       "<div>\n",
       "<table border=\"1\" class=\"dataframe\">\n",
       "  <thead>\n",
       "    <tr style=\"text-align: right;\">\n",
       "      <th></th>\n",
       "      <th>DayOfWeek</th>\n",
       "      <th>CENTRAL</th>\n",
       "      <th>MISSION</th>\n",
       "      <th>SOUTHERN</th>\n",
       "    </tr>\n",
       "  </thead>\n",
       "  <tbody>\n",
       "    <tr>\n",
       "      <th>0</th>\n",
       "      <td>Saturday</td>\n",
       "      <td>2639</td>\n",
       "      <td>2302</td>\n",
       "      <td>4074</td>\n",
       "    </tr>\n",
       "    <tr>\n",
       "      <th>1</th>\n",
       "      <td>Sunday</td>\n",
       "      <td>2215</td>\n",
       "      <td>2366</td>\n",
       "      <td>3500</td>\n",
       "    </tr>\n",
       "    <tr>\n",
       "      <th>2</th>\n",
       "      <td>Monday</td>\n",
       "      <td>2179</td>\n",
       "      <td>2185</td>\n",
       "      <td>3571</td>\n",
       "    </tr>\n",
       "    <tr>\n",
       "      <th>3</th>\n",
       "      <td>Tuesday</td>\n",
       "      <td>2143</td>\n",
       "      <td>2299</td>\n",
       "      <td>3595</td>\n",
       "    </tr>\n",
       "    <tr>\n",
       "      <th>4</th>\n",
       "      <td>Wednesday</td>\n",
       "      <td>2227</td>\n",
       "      <td>2389</td>\n",
       "      <td>3769</td>\n",
       "    </tr>\n",
       "    <tr>\n",
       "      <th>5</th>\n",
       "      <td>Thursday</td>\n",
       "      <td>2198</td>\n",
       "      <td>2312</td>\n",
       "      <td>3803</td>\n",
       "    </tr>\n",
       "    <tr>\n",
       "      <th>6</th>\n",
       "      <td>Friday</td>\n",
       "      <td>2500</td>\n",
       "      <td>2393</td>\n",
       "      <td>4178</td>\n",
       "    </tr>\n",
       "  </tbody>\n",
       "</table>\n",
       "</div>"
      ],
      "text/plain": [
       "   DayOfWeek  CENTRAL  MISSION  SOUTHERN\n",
       "0   Saturday     2639     2302      4074\n",
       "1     Sunday     2215     2366      3500\n",
       "2     Monday     2179     2185      3571\n",
       "3    Tuesday     2143     2299      3595\n",
       "4  Wednesday     2227     2389      3769\n",
       "5   Thursday     2198     2312      3803\n",
       "6     Friday     2500     2393      4178"
      ]
     },
     "execution_count": 98,
     "metadata": {},
     "output_type": "execute_result"
    }
   ],
   "source": [
    "raw_data = {'DayOfWeek': ['Saturday', 'Sunday', 'Monday', 'Tuesday', 'Wednesday', 'Thursday', 'Friday'],\n",
    "        'CENTRAL': [2639, 2215, 2179, 2143, 2227, 2198, 2500],\n",
    "        'MISSION': [2302, 2366, 2185, 2299, 2389, 2312, 2393],\n",
    "        'SOUTHERN': [4074, 3500, 3571, 3595, 3769, 3803, 4178]}\n",
    "df = pd.DataFrame(raw_data, columns = ['DayOfWeek', 'CENTRAL', 'MISSION', 'SOUTHERN'])\n",
    "df"
   ]
  },
  {
   "cell_type": "code",
   "execution_count": 99,
   "metadata": {
    "collapsed": false,
    "scrolled": false
   },
   "outputs": [
    {
     "data": {
      "text/plain": [
       "(0.625, 8.125)"
      ]
     },
     "execution_count": 99,
     "metadata": {},
     "output_type": "execute_result"
    },
    {
     "data": {
      "image/png": "[encoded data removed]",
      "text/plain": [
       "<matplotlib.figure.Figure at 0x1245cca90>"
      ]
     },
     "metadata": {},
     "output_type": "display_data"
    }
   ],
   "source": [
    "\n",
    "f, ax1 = plt.subplots(1, figsize=(10,5))\n",
    "bar_width = 0.75\n",
    "bar_l = [i+1 for i in range(len(df['CENTRAL']))] \n",
    "tick_pos = [i+(bar_width/2) for i in bar_l] \n",
    "ax1.bar(bar_l, \n",
    "        \n",
    "        df['CENTRAL'], \n",
    "        width=bar_width,\n",
    "        label='CENTRAL', \n",
    "        alpha=0.5, \n",
    "        color='#F4561D')\n",
    "\n",
    "\n",
    "ax1.bar(bar_l, \n",
    "        \n",
    "        df['CENTRAL'], \n",
    "        width=bar_width,\n",
    "        bottom=df['CENTRAL'], \n",
    "        label='MISSION', \n",
    "        alpha=0.5, \n",
    "        color='#F1911E')\n",
    "\n",
    "\n",
    "ax1.bar(bar_l, \n",
    "        \n",
    "        df['SOUTHERN'], \n",
    "        width=bar_width,\n",
    "        bottom=[i+j for i,j in zip(df['CENTRAL'],df['MISSION'])], \n",
    "        label='SOUTHERN', \n",
    "        alpha=0.5, \n",
    "        color='#F1BD1A')\n",
    "\n",
    "\n",
    "plt.xticks(tick_pos, df['DayOfWeek'])\n",
    "\n",
    "\n",
    "ax1.set_ylabel(\"PdDistrict\")\n",
    "ax1.set_xlabel(\"DayOfWeek\")\n",
    "plt.legend(loc='PdDistrict')\n",
    "\n",
    "\n",
    "plt.xlim([min(tick_pos)-bar_width, max(tick_pos)+bar_width])"
   ]
  },
  {
   "cell_type": "code",
   "execution_count": 100,
   "metadata": {
    "collapsed": false
   },
   "outputs": [
    {
     "data": {
      "text/plain": [
       "<matplotlib.axes._subplots.AxesSubplot at 0x1243a0950>"
      ]
     },
     "execution_count": 100,
     "metadata": {},
     "output_type": "execute_result"
    },
    {
     "data": {
      "image/png": "[encoded data removed]",
      "text/plain": [
       "<matplotlib.figure.Figure at 0x12459ae10>"
      ]
     },
     "metadata": {},
     "output_type": "display_data"
    }
   ],
   "source": [
    "#This one does not tell me much\n",
    "incidents['DayOfWeek'].value_counts().plot(kind='bar', color= 'blue')"
   ]
  },
  {
   "cell_type": "code",
   "execution_count": 101,
   "metadata": {
    "collapsed": false,
    "scrolled": true
   },
   "outputs": [
    {
     "data": {
      "text/plain": [
       "<matplotlib.axes._subplots.AxesSubplot at 0x1243ba250>"
      ]
     },
     "execution_count": 101,
     "metadata": {},
     "output_type": "execute_result"
    },
    {
     "data": {
      "image/png": "[encoded data removed]",
      "text/plain": [
       "<matplotlib.figure.Figure at 0x11acd6990>"
      ]
     },
     "metadata": {},
     "output_type": "display_data"
    }
   ],
   "source": [
    "#Most of the crime is unresolved\n",
    "incidents['Resolution'].value_counts().plot(kind='bar', color= 'red')"
   ]
  },
  {
   "cell_type": "code",
   "execution_count": 102,
   "metadata": {
    "collapsed": false,
    "scrolled": true
   },
   "outputs": [
    {
     "data": {
      "text/html": [
       "<div>\n",
       "<table border=\"1\" class=\"dataframe\">\n",
       "  <thead>\n",
       "    <tr style=\"text-align: right;\">\n",
       "      <th></th>\n",
       "      <th>IncidntNum</th>\n",
       "      <th>Category</th>\n",
       "      <th>Descript</th>\n",
       "      <th>DayOfWeek</th>\n",
       "      <th>Date</th>\n",
       "      <th>Time</th>\n",
       "      <th>PdDistrict</th>\n",
       "      <th>Resolution</th>\n",
       "      <th>Address</th>\n",
       "      <th>X</th>\n",
       "      <th>Y</th>\n",
       "      <th>Location</th>\n",
       "      <th>PdId</th>\n",
       "      <th>Year</th>\n",
       "      <th>Month</th>\n",
       "    </tr>\n",
       "    <tr>\n",
       "      <th>Date</th>\n",
       "      <th></th>\n",
       "      <th></th>\n",
       "      <th></th>\n",
       "      <th></th>\n",
       "      <th></th>\n",
       "      <th></th>\n",
       "      <th></th>\n",
       "      <th></th>\n",
       "      <th></th>\n",
       "      <th></th>\n",
       "      <th></th>\n",
       "      <th></th>\n",
       "      <th></th>\n",
       "      <th></th>\n",
       "      <th></th>\n",
       "    </tr>\n",
       "  </thead>\n",
       "  <tbody>\n",
       "    <tr>\n",
       "      <th>2015-07-09</th>\n",
       "      <td>110239385</td>\n",
       "      <td>SEX OFFENSES, FORCIBLE</td>\n",
       "      <td>CHILD ABUSE SEXUAL</td>\n",
       "      <td>Thursday</td>\n",
       "      <td>2015-07-09</td>\n",
       "      <td>13:50</td>\n",
       "      <td>NORTHERN</td>\n",
       "      <td>ARREST, BOOKED</td>\n",
       "      <td>400 Block of MCALLISTER ST</td>\n",
       "      <td>-122.419448</td>\n",
       "      <td>37.780209</td>\n",
       "      <td>(37.7802091894281, -122.419448185224)</td>\n",
       "      <td>11023938514015</td>\n",
       "      <td>2015</td>\n",
       "      <td>7</td>\n",
       "    </tr>\n",
       "    <tr>\n",
       "      <th>2015-07-09</th>\n",
       "      <td>110239385</td>\n",
       "      <td>ASSAULT</td>\n",
       "      <td>CHILD ABUSE (PHYSICAL)</td>\n",
       "      <td>Thursday</td>\n",
       "      <td>2015-07-09</td>\n",
       "      <td>13:50</td>\n",
       "      <td>NORTHERN</td>\n",
       "      <td>ARREST, BOOKED</td>\n",
       "      <td>400 Block of MCALLISTER ST</td>\n",
       "      <td>-122.419448</td>\n",
       "      <td>37.780209</td>\n",
       "      <td>(37.7802091894281, -122.419448185224)</td>\n",
       "      <td>11023938515015</td>\n",
       "      <td>2015</td>\n",
       "      <td>7</td>\n",
       "    </tr>\n",
       "    <tr>\n",
       "      <th>2015-07-09</th>\n",
       "      <td>110239385</td>\n",
       "      <td>WARRANTS</td>\n",
       "      <td>WARRANT ARREST</td>\n",
       "      <td>Thursday</td>\n",
       "      <td>2015-07-09</td>\n",
       "      <td>13:50</td>\n",
       "      <td>NORTHERN</td>\n",
       "      <td>ARREST, BOOKED</td>\n",
       "      <td>400 Block of MCALLISTER ST</td>\n",
       "      <td>-122.419448</td>\n",
       "      <td>37.780209</td>\n",
       "      <td>(37.7802091894281, -122.419448185224)</td>\n",
       "      <td>11023938563010</td>\n",
       "      <td>2015</td>\n",
       "      <td>7</td>\n",
       "    </tr>\n",
       "    <tr>\n",
       "      <th>2015-07-09</th>\n",
       "      <td>110239385</td>\n",
       "      <td>NON-CRIMINAL</td>\n",
       "      <td>CASE CLOSURE</td>\n",
       "      <td>Thursday</td>\n",
       "      <td>2015-07-09</td>\n",
       "      <td>13:50</td>\n",
       "      <td>NORTHERN</td>\n",
       "      <td>ARREST, BOOKED</td>\n",
       "      <td>400 Block of MCALLISTER ST</td>\n",
       "      <td>-122.419448</td>\n",
       "      <td>37.780209</td>\n",
       "      <td>(37.7802091894281, -122.419448185224)</td>\n",
       "      <td>11023938575030</td>\n",
       "      <td>2015</td>\n",
       "      <td>7</td>\n",
       "    </tr>\n",
       "    <tr>\n",
       "      <th>2015-10-02</th>\n",
       "      <td>111008842</td>\n",
       "      <td>ROBBERY</td>\n",
       "      <td>ATTEMPTED ROBBERY WITH BODILY FORCE</td>\n",
       "      <td>Friday</td>\n",
       "      <td>2015-10-02</td>\n",
       "      <td>22:21</td>\n",
       "      <td>TARAVAL</td>\n",
       "      <td>ARREST, BOOKED</td>\n",
       "      <td>ALEMANY BL / KEMPTON AV</td>\n",
       "      <td>-122.468426</td>\n",
       "      <td>37.710955</td>\n",
       "      <td>(37.7109549221546, -122.468425552228)</td>\n",
       "      <td>11100884203474</td>\n",
       "      <td>2015</td>\n",
       "      <td>10</td>\n",
       "    </tr>\n",
       "  </tbody>\n",
       "</table>\n",
       "</div>"
      ],
      "text/plain": [
       "            IncidntNum                Category  \\\n",
       "Date                                             \n",
       "2015-07-09   110239385  SEX OFFENSES, FORCIBLE   \n",
       "2015-07-09   110239385                 ASSAULT   \n",
       "2015-07-09   110239385                WARRANTS   \n",
       "2015-07-09   110239385            NON-CRIMINAL   \n",
       "2015-10-02   111008842                 ROBBERY   \n",
       "\n",
       "                                       Descript DayOfWeek       Date   Time  \\\n",
       "Date                                                                          \n",
       "2015-07-09                   CHILD ABUSE SEXUAL  Thursday 2015-07-09  13:50   \n",
       "2015-07-09               CHILD ABUSE (PHYSICAL)  Thursday 2015-07-09  13:50   \n",
       "2015-07-09                       WARRANT ARREST  Thursday 2015-07-09  13:50   \n",
       "2015-07-09                         CASE CLOSURE  Thursday 2015-07-09  13:50   \n",
       "2015-10-02  ATTEMPTED ROBBERY WITH BODILY FORCE    Friday 2015-10-02  22:21   \n",
       "\n",
       "           PdDistrict      Resolution                     Address           X  \\\n",
       "Date                                                                            \n",
       "2015-07-09   NORTHERN  ARREST, BOOKED  400 Block of MCALLISTER ST -122.419448   \n",
       "2015-07-09   NORTHERN  ARREST, BOOKED  400 Block of MCALLISTER ST -122.419448   \n",
       "2015-07-09   NORTHERN  ARREST, BOOKED  400 Block of MCALLISTER ST -122.419448   \n",
       "2015-07-09   NORTHERN  ARREST, BOOKED  400 Block of MCALLISTER ST -122.419448   \n",
       "2015-10-02    TARAVAL  ARREST, BOOKED     ALEMANY BL / KEMPTON AV -122.468426   \n",
       "\n",
       "                    Y                               Location            PdId  \\\n",
       "Date                                                                           \n",
       "2015-07-09  37.780209  (37.7802091894281, -122.419448185224)  11023938514015   \n",
       "2015-07-09  37.780209  (37.7802091894281, -122.419448185224)  11023938515015   \n",
       "2015-07-09  37.780209  (37.7802091894281, -122.419448185224)  11023938563010   \n",
       "2015-07-09  37.780209  (37.7802091894281, -122.419448185224)  11023938575030   \n",
       "2015-10-02  37.710955  (37.7109549221546, -122.468425552228)  11100884203474   \n",
       "\n",
       "            Year  Month  \n",
       "Date                     \n",
       "2015-07-09  2015      7  \n",
       "2015-07-09  2015      7  \n",
       "2015-07-09  2015      7  \n",
       "2015-07-09  2015      7  \n",
       "2015-10-02  2015     10  "
      ]
     },
     "execution_count": 102,
     "metadata": {},
     "output_type": "execute_result"
    }
   ],
   "source": [
    "incidents['Date'] = pd.to_datetime(incidents['Date'])\n",
    "# incidents.set_index('Date', inplace=True)\n",
    "incidents.index = incidents['Date']\n",
    "\n",
    "incidents['Year'] = incidents.index.year\n",
    "incidents['Month'] = incidents.index.month\n",
    "incidents.head()"
   ]
  },
  {
   "cell_type": "code",
   "execution_count": 51,
   "metadata": {
    "collapsed": false
   },
   "outputs": [
    {
     "data": {
      "text/html": [
       "<div>\n",
       "<table border=\"1\" class=\"dataframe\">\n",
       "  <thead>\n",
       "    <tr style=\"text-align: right;\">\n",
       "      <th></th>\n",
       "      <th>IncidntNum</th>\n",
       "      <th>Category</th>\n",
       "      <th>Descript</th>\n",
       "      <th>DayOfWeek</th>\n",
       "      <th>Date</th>\n",
       "      <th>Time</th>\n",
       "      <th>PdDistrict</th>\n",
       "      <th>Resolution</th>\n",
       "      <th>Address</th>\n",
       "      <th>X</th>\n",
       "      <th>Y</th>\n",
       "      <th>Location</th>\n",
       "      <th>PdId</th>\n",
       "      <th>Year</th>\n",
       "      <th>Month</th>\n",
       "    </tr>\n",
       "    <tr>\n",
       "      <th>Date</th>\n",
       "      <th></th>\n",
       "      <th></th>\n",
       "      <th></th>\n",
       "      <th></th>\n",
       "      <th></th>\n",
       "      <th></th>\n",
       "      <th></th>\n",
       "      <th></th>\n",
       "      <th></th>\n",
       "      <th></th>\n",
       "      <th></th>\n",
       "      <th></th>\n",
       "      <th></th>\n",
       "      <th></th>\n",
       "      <th></th>\n",
       "    </tr>\n",
       "  </thead>\n",
       "  <tbody>\n",
       "    <tr>\n",
       "      <th>2015-06-23</th>\n",
       "      <td>150544984</td>\n",
       "      <td>OTHER OFFENSES</td>\n",
       "      <td>DRIVERS LICENSE, SUSPENDED OR REVOKED</td>\n",
       "      <td>Tuesday</td>\n",
       "      <td>2015-06-23</td>\n",
       "      <td>21:30</td>\n",
       "      <td>BAYVIEW</td>\n",
       "      <td>NONE</td>\n",
       "      <td>WILLIAMS AV / 3RD ST</td>\n",
       "      <td>-122.392625</td>\n",
       "      <td>37.729280</td>\n",
       "      <td>(37.7292804432175, -122.392625489263)</td>\n",
       "      <td>15054498465016</td>\n",
       "      <td>2015</td>\n",
       "      <td>6</td>\n",
       "    </tr>\n",
       "    <tr>\n",
       "      <th>2015-06-23</th>\n",
       "      <td>150545073</td>\n",
       "      <td>SECONDARY CODES</td>\n",
       "      <td>DOMESTIC VIOLENCE</td>\n",
       "      <td>Tuesday</td>\n",
       "      <td>2015-06-23</td>\n",
       "      <td>20:47</td>\n",
       "      <td>BAYVIEW</td>\n",
       "      <td>NONE</td>\n",
       "      <td>1000 Block of CONNECTICUT ST</td>\n",
       "      <td>-122.397202</td>\n",
       "      <td>37.753535</td>\n",
       "      <td>(37.7535351242762, -122.397201937993)</td>\n",
       "      <td>15054507315200</td>\n",
       "      <td>2015</td>\n",
       "      <td>6</td>\n",
       "    </tr>\n",
       "    <tr>\n",
       "      <th>2015-06-23</th>\n",
       "      <td>150545073</td>\n",
       "      <td>ASSAULT</td>\n",
       "      <td>THREATS AGAINST LIFE</td>\n",
       "      <td>Tuesday</td>\n",
       "      <td>2015-06-23</td>\n",
       "      <td>20:47</td>\n",
       "      <td>BAYVIEW</td>\n",
       "      <td>NONE</td>\n",
       "      <td>1000 Block of CONNECTICUT ST</td>\n",
       "      <td>-122.397202</td>\n",
       "      <td>37.753535</td>\n",
       "      <td>(37.7535351242762, -122.397201937993)</td>\n",
       "      <td>15054507319057</td>\n",
       "      <td>2015</td>\n",
       "      <td>6</td>\n",
       "    </tr>\n",
       "    <tr>\n",
       "      <th>2015-06-23</th>\n",
       "      <td>150545443</td>\n",
       "      <td>DRUG/NARCOTIC</td>\n",
       "      <td>POSSESSION OF METH-AMPHETAMINE</td>\n",
       "      <td>Tuesday</td>\n",
       "      <td>2015-06-23</td>\n",
       "      <td>00:01</td>\n",
       "      <td>SOUTHERN</td>\n",
       "      <td>ARREST, BOOKED</td>\n",
       "      <td>6TH ST / MARKET ST</td>\n",
       "      <td>-122.410294</td>\n",
       "      <td>37.782231</td>\n",
       "      <td>(37.7822305870036, -122.41029351969)</td>\n",
       "      <td>15054544316650</td>\n",
       "      <td>2015</td>\n",
       "      <td>6</td>\n",
       "    </tr>\n",
       "    <tr>\n",
       "      <th>2015-06-23</th>\n",
       "      <td>150545443</td>\n",
       "      <td>LARCENY/THEFT</td>\n",
       "      <td>LOST PROPERTY, PETTY THEFT</td>\n",
       "      <td>Tuesday</td>\n",
       "      <td>2015-06-23</td>\n",
       "      <td>00:01</td>\n",
       "      <td>SOUTHERN</td>\n",
       "      <td>ARREST, BOOKED</td>\n",
       "      <td>6TH ST / MARKET ST</td>\n",
       "      <td>-122.410294</td>\n",
       "      <td>37.782231</td>\n",
       "      <td>(37.7822305870036, -122.41029351969)</td>\n",
       "      <td>15054544327090</td>\n",
       "      <td>2015</td>\n",
       "      <td>6</td>\n",
       "    </tr>\n",
       "  </tbody>\n",
       "</table>\n",
       "</div>"
      ],
      "text/plain": [
       "            IncidntNum         Category  \\\n",
       "Date                                      \n",
       "2015-06-23   150544984   OTHER OFFENSES   \n",
       "2015-06-23   150545073  SECONDARY CODES   \n",
       "2015-06-23   150545073          ASSAULT   \n",
       "2015-06-23   150545443    DRUG/NARCOTIC   \n",
       "2015-06-23   150545443    LARCENY/THEFT   \n",
       "\n",
       "                                         Descript DayOfWeek       Date   Time  \\\n",
       "Date                                                                            \n",
       "2015-06-23  DRIVERS LICENSE, SUSPENDED OR REVOKED   Tuesday 2015-06-23  21:30   \n",
       "2015-06-23                      DOMESTIC VIOLENCE   Tuesday 2015-06-23  20:47   \n",
       "2015-06-23                   THREATS AGAINST LIFE   Tuesday 2015-06-23  20:47   \n",
       "2015-06-23         POSSESSION OF METH-AMPHETAMINE   Tuesday 2015-06-23  00:01   \n",
       "2015-06-23             LOST PROPERTY, PETTY THEFT   Tuesday 2015-06-23  00:01   \n",
       "\n",
       "           PdDistrict      Resolution                       Address  \\\n",
       "Date                                                                  \n",
       "2015-06-23    BAYVIEW            NONE          WILLIAMS AV / 3RD ST   \n",
       "2015-06-23    BAYVIEW            NONE  1000 Block of CONNECTICUT ST   \n",
       "2015-06-23    BAYVIEW            NONE  1000 Block of CONNECTICUT ST   \n",
       "2015-06-23   SOUTHERN  ARREST, BOOKED            6TH ST / MARKET ST   \n",
       "2015-06-23   SOUTHERN  ARREST, BOOKED            6TH ST / MARKET ST   \n",
       "\n",
       "                     X          Y                               Location  \\\n",
       "Date                                                                       \n",
       "2015-06-23 -122.392625  37.729280  (37.7292804432175, -122.392625489263)   \n",
       "2015-06-23 -122.397202  37.753535  (37.7535351242762, -122.397201937993)   \n",
       "2015-06-23 -122.397202  37.753535  (37.7535351242762, -122.397201937993)   \n",
       "2015-06-23 -122.410294  37.782231   (37.7822305870036, -122.41029351969)   \n",
       "2015-06-23 -122.410294  37.782231   (37.7822305870036, -122.41029351969)   \n",
       "\n",
       "                      PdId  Year  Month  \n",
       "Date                                     \n",
       "2015-06-23  15054498465016  2015      6  \n",
       "2015-06-23  15054507315200  2015      6  \n",
       "2015-06-23  15054507319057  2015      6  \n",
       "2015-06-23  15054544316650  2015      6  \n",
       "2015-06-23  15054544327090  2015      6  "
      ]
     },
     "execution_count": 51,
     "metadata": {},
     "output_type": "execute_result"
    }
   ],
   "source": [
    "incidents['2015-06-23'].head()"
   ]
  },
  {
   "cell_type": "code",
   "execution_count": 103,
   "metadata": {
    "collapsed": false
   },
   "outputs": [
    {
     "data": {
      "text/plain": [
       "<matplotlib.axes._subplots.AxesSubplot at 0x127460290>"
      ]
     },
     "execution_count": 103,
     "metadata": {},
     "output_type": "execute_result"
    },
    {
     "data": {
      "image/png": "[encoded data removed]",
      "text/plain": [
       "<matplotlib.figure.Figure at 0x11ac6cd10>"
      ]
     },
     "metadata": {},
     "output_type": "display_data"
    }
   ],
   "source": [
    "# incidents.Descript.unique()\n",
    "incidents[incidents.Descript=='STOLEN AUTOMOBILE'].resample('1D', how='count')['IncidntNum'].plot()#in blue\n",
    "incidents[incidents.Descript=='ASSAULT'].resample('1D', how='count')['IncidntNum'].plot() #in red\n",
    "incidents[incidents.Descript=='DOMESTIC VIOLENCE'].resample('1D', how='count')['IncidntNum'].plot() #in green\n"
   ]
  },
  {
   "cell_type": "code",
   "execution_count": 104,
   "metadata": {
    "collapsed": false,
    "scrolled": true
   },
   "outputs": [
    {
     "data": {
      "text/html": [
       "<div>\n",
       "<table border=\"1\" class=\"dataframe\">\n",
       "  <thead>\n",
       "    <tr style=\"text-align: right;\">\n",
       "      <th></th>\n",
       "      <th>DOW_Monday</th>\n",
       "      <th>DOW_Saturday</th>\n",
       "      <th>DOW_Sunday</th>\n",
       "      <th>DOW_Thursday</th>\n",
       "      <th>DOW_Tuesday</th>\n",
       "      <th>DOW_Wednesday</th>\n",
       "      <th>C_ASSAULT</th>\n",
       "      <th>C_BAD CHECKS</th>\n",
       "      <th>C_BRIBERY</th>\n",
       "      <th>C_BURGLARY</th>\n",
       "      <th>...</th>\n",
       "      <th>Descript_WILLFUL CRUELTY TO CHILD</th>\n",
       "      <th>PdDistrict_CENTRAL</th>\n",
       "      <th>PdDistrict_INGLESIDE</th>\n",
       "      <th>PdDistrict_MISSION</th>\n",
       "      <th>PdDistrict_NORTHERN</th>\n",
       "      <th>PdDistrict_PARK</th>\n",
       "      <th>PdDistrict_RICHMOND</th>\n",
       "      <th>PdDistrict_SOUTHERN</th>\n",
       "      <th>PdDistrict_TARAVAL</th>\n",
       "      <th>PdDistrict_TENDERLOIN</th>\n",
       "    </tr>\n",
       "    <tr>\n",
       "      <th>Date</th>\n",
       "      <th></th>\n",
       "      <th></th>\n",
       "      <th></th>\n",
       "      <th></th>\n",
       "      <th></th>\n",
       "      <th></th>\n",
       "      <th></th>\n",
       "      <th></th>\n",
       "      <th></th>\n",
       "      <th></th>\n",
       "      <th></th>\n",
       "      <th></th>\n",
       "      <th></th>\n",
       "      <th></th>\n",
       "      <th></th>\n",
       "      <th></th>\n",
       "      <th></th>\n",
       "      <th></th>\n",
       "      <th></th>\n",
       "      <th></th>\n",
       "      <th></th>\n",
       "    </tr>\n",
       "  </thead>\n",
       "  <tbody>\n",
       "    <tr>\n",
       "      <th>2015-07-09</th>\n",
       "      <td>0</td>\n",
       "      <td>0</td>\n",
       "      <td>0</td>\n",
       "      <td>1</td>\n",
       "      <td>0</td>\n",
       "      <td>0</td>\n",
       "      <td>0</td>\n",
       "      <td>0</td>\n",
       "      <td>0</td>\n",
       "      <td>0</td>\n",
       "      <td>...</td>\n",
       "      <td>0</td>\n",
       "      <td>0</td>\n",
       "      <td>0</td>\n",
       "      <td>0</td>\n",
       "      <td>1</td>\n",
       "      <td>0</td>\n",
       "      <td>0</td>\n",
       "      <td>0</td>\n",
       "      <td>0</td>\n",
       "      <td>0</td>\n",
       "    </tr>\n",
       "    <tr>\n",
       "      <th>2015-07-09</th>\n",
       "      <td>0</td>\n",
       "      <td>0</td>\n",
       "      <td>0</td>\n",
       "      <td>1</td>\n",
       "      <td>0</td>\n",
       "      <td>0</td>\n",
       "      <td>1</td>\n",
       "      <td>0</td>\n",
       "      <td>0</td>\n",
       "      <td>0</td>\n",
       "      <td>...</td>\n",
       "      <td>0</td>\n",
       "      <td>0</td>\n",
       "      <td>0</td>\n",
       "      <td>0</td>\n",
       "      <td>1</td>\n",
       "      <td>0</td>\n",
       "      <td>0</td>\n",
       "      <td>0</td>\n",
       "      <td>0</td>\n",
       "      <td>0</td>\n",
       "    </tr>\n",
       "    <tr>\n",
       "      <th>2015-07-09</th>\n",
       "      <td>0</td>\n",
       "      <td>0</td>\n",
       "      <td>0</td>\n",
       "      <td>1</td>\n",
       "      <td>0</td>\n",
       "      <td>0</td>\n",
       "      <td>0</td>\n",
       "      <td>0</td>\n",
       "      <td>0</td>\n",
       "      <td>0</td>\n",
       "      <td>...</td>\n",
       "      <td>0</td>\n",
       "      <td>0</td>\n",
       "      <td>0</td>\n",
       "      <td>0</td>\n",
       "      <td>1</td>\n",
       "      <td>0</td>\n",
       "      <td>0</td>\n",
       "      <td>0</td>\n",
       "      <td>0</td>\n",
       "      <td>0</td>\n",
       "    </tr>\n",
       "    <tr>\n",
       "      <th>2015-07-09</th>\n",
       "      <td>0</td>\n",
       "      <td>0</td>\n",
       "      <td>0</td>\n",
       "      <td>1</td>\n",
       "      <td>0</td>\n",
       "      <td>0</td>\n",
       "      <td>0</td>\n",
       "      <td>0</td>\n",
       "      <td>0</td>\n",
       "      <td>0</td>\n",
       "      <td>...</td>\n",
       "      <td>0</td>\n",
       "      <td>0</td>\n",
       "      <td>0</td>\n",
       "      <td>0</td>\n",
       "      <td>1</td>\n",
       "      <td>0</td>\n",
       "      <td>0</td>\n",
       "      <td>0</td>\n",
       "      <td>0</td>\n",
       "      <td>0</td>\n",
       "    </tr>\n",
       "    <tr>\n",
       "      <th>2015-10-02</th>\n",
       "      <td>0</td>\n",
       "      <td>0</td>\n",
       "      <td>0</td>\n",
       "      <td>0</td>\n",
       "      <td>0</td>\n",
       "      <td>0</td>\n",
       "      <td>0</td>\n",
       "      <td>0</td>\n",
       "      <td>0</td>\n",
       "      <td>0</td>\n",
       "      <td>...</td>\n",
       "      <td>0</td>\n",
       "      <td>0</td>\n",
       "      <td>0</td>\n",
       "      <td>0</td>\n",
       "      <td>0</td>\n",
       "      <td>0</td>\n",
       "      <td>0</td>\n",
       "      <td>0</td>\n",
       "      <td>1</td>\n",
       "      <td>0</td>\n",
       "    </tr>\n",
       "  </tbody>\n",
       "</table>\n",
       "<p>5 rows × 770 columns</p>\n",
       "</div>"
      ],
      "text/plain": [
       "            DOW_Monday  DOW_Saturday  DOW_Sunday  DOW_Thursday  DOW_Tuesday  \\\n",
       "Date                                                                          \n",
       "2015-07-09           0             0           0             1            0   \n",
       "2015-07-09           0             0           0             1            0   \n",
       "2015-07-09           0             0           0             1            0   \n",
       "2015-07-09           0             0           0             1            0   \n",
       "2015-10-02           0             0           0             0            0   \n",
       "\n",
       "            DOW_Wednesday  C_ASSAULT  C_BAD CHECKS  C_BRIBERY  C_BURGLARY  \\\n",
       "Date                                                                        \n",
       "2015-07-09              0          0             0          0           0   \n",
       "2015-07-09              0          1             0          0           0   \n",
       "2015-07-09              0          0             0          0           0   \n",
       "2015-07-09              0          0             0          0           0   \n",
       "2015-10-02              0          0             0          0           0   \n",
       "\n",
       "                    ...            Descript_WILLFUL CRUELTY TO CHILD  \\\n",
       "Date                ...                                                \n",
       "2015-07-09          ...                                            0   \n",
       "2015-07-09          ...                                            0   \n",
       "2015-07-09          ...                                            0   \n",
       "2015-07-09          ...                                            0   \n",
       "2015-10-02          ...                                            0   \n",
       "\n",
       "            PdDistrict_CENTRAL  PdDistrict_INGLESIDE  PdDistrict_MISSION  \\\n",
       "Date                                                                       \n",
       "2015-07-09                   0                     0                   0   \n",
       "2015-07-09                   0                     0                   0   \n",
       "2015-07-09                   0                     0                   0   \n",
       "2015-07-09                   0                     0                   0   \n",
       "2015-10-02                   0                     0                   0   \n",
       "\n",
       "            PdDistrict_NORTHERN  PdDistrict_PARK  PdDistrict_RICHMOND  \\\n",
       "Date                                                                    \n",
       "2015-07-09                    1                0                    0   \n",
       "2015-07-09                    1                0                    0   \n",
       "2015-07-09                    1                0                    0   \n",
       "2015-07-09                    1                0                    0   \n",
       "2015-10-02                    0                0                    0   \n",
       "\n",
       "            PdDistrict_SOUTHERN  PdDistrict_TARAVAL  PdDistrict_TENDERLOIN  \n",
       "Date                                                                        \n",
       "2015-07-09                    0                   0                      0  \n",
       "2015-07-09                    0                   0                      0  \n",
       "2015-07-09                    0                   0                      0  \n",
       "2015-07-09                    0                   0                      0  \n",
       "2015-10-02                    0                   1                      0  \n",
       "\n",
       "[5 rows x 770 columns]"
      ]
     },
     "execution_count": 104,
     "metadata": {},
     "output_type": "execute_result"
    }
   ],
   "source": [
    "DayofWeek_dummies=pd.get_dummies(incidents.DayOfWeek, prefix ='DOW')\n",
    "DayofWeek_dummies.drop(DayofWeek_dummies.columns[0], axis=1, inplace=True)\n",
    "\n",
    "Category_dummies=pd.get_dummies(incidents.Category, prefix ='C')\n",
    "Category_dummies.drop(Category_dummies.columns[0], axis=1, inplace=True)\n",
    "\n",
    "Descript_dummies=pd.get_dummies(incidents.Descript, prefix ='Descript')\n",
    "Descript_dummies.drop(Descript_dummies.columns[0], axis=1, inplace=True)\n",
    "\n",
    "PdDistrict_dummies=pd.get_dummies(incidents.PdDistrict, prefix ='PdDistrict')\n",
    "PdDistrict_dummies.drop(PdDistrict_dummies.columns[0], axis=1, inplace=True)\n",
    "\n",
    "incidents1 = pd.concat([DayofWeek_dummies, Category_dummies, Descript_dummies, PdDistrict_dummies], axis=1)\n",
    "incidents1.head()\n",
    "\n",
    "\n",
    "\n"
   ]
  },
  {
   "cell_type": "code",
   "execution_count": 63,
   "metadata": {
    "collapsed": false
   },
   "outputs": [
    {
     "data": {
      "text/plain": [
       "0                ARREST, BOOKED\n",
       "1                ARREST, BOOKED\n",
       "2                ARREST, BOOKED\n",
       "3                ARREST, BOOKED\n",
       "4                ARREST, BOOKED\n",
       "5                ARREST, BOOKED\n",
       "6                ARREST, BOOKED\n",
       "7                ARREST, BOOKED\n",
       "8                ARREST, BOOKED\n",
       "9                ARREST, BOOKED\n",
       "10               ARREST, BOOKED\n",
       "11               ARREST, BOOKED\n",
       "12        EXCEPTIONAL CLEARANCE\n",
       "13        EXCEPTIONAL CLEARANCE\n",
       "14               ARREST, BOOKED\n",
       "15               ARREST, BOOKED\n",
       "16               ARREST, BOOKED\n",
       "17               ARREST, BOOKED\n",
       "18               ARREST, BOOKED\n",
       "19               ARREST, BOOKED\n",
       "20               ARREST, BOOKED\n",
       "21               ARREST, BOOKED\n",
       "22               ARREST, BOOKED\n",
       "23               ARREST, BOOKED\n",
       "24               ARREST, BOOKED\n",
       "25               ARREST, BOOKED\n",
       "26               ARREST, BOOKED\n",
       "27               ARREST, BOOKED\n",
       "28                         NONE\n",
       "29                         NONE\n",
       "                  ...          \n",
       "137437                     NONE\n",
       "137438                     NONE\n",
       "137439           ARREST, BOOKED\n",
       "137440                     NONE\n",
       "137441           ARREST, BOOKED\n",
       "137442           ARREST, BOOKED\n",
       "137443                     NONE\n",
       "137444                     NONE\n",
       "137445                     NONE\n",
       "137446                     NONE\n",
       "137447           ARREST, BOOKED\n",
       "137448           ARREST, BOOKED\n",
       "137449           ARREST, BOOKED\n",
       "137450           ARREST, BOOKED\n",
       "137451          JUVENILE BOOKED\n",
       "137452                     NONE\n",
       "137453                     NONE\n",
       "137454                     NONE\n",
       "137455                     NONE\n",
       "137456                     NONE\n",
       "137457                     NONE\n",
       "137458                     NONE\n",
       "137459                     NONE\n",
       "137460                     NONE\n",
       "137461                     NONE\n",
       "137462                     NONE\n",
       "137463                     NONE\n",
       "137464    EXCEPTIONAL CLEARANCE\n",
       "137465    EXCEPTIONAL CLEARANCE\n",
       "137466           ARREST, BOOKED\n",
       "Name: Resolution, dtype: object"
      ]
     },
     "execution_count": 63,
     "metadata": {},
     "output_type": "execute_result"
    }
   ],
   "source": [
    "incidents['Resolution']"
   ]
  },
  {
   "cell_type": "code",
   "execution_count": 105,
   "metadata": {
    "collapsed": false
   },
   "outputs": [],
   "source": [
    "#map resolution\n",
    "all_else = ['UNFOUNDED','JUVENILE BOOKED','ARREST, CITED','EXCEPTIONAL CLEARANCE','CLEARED-CONTACT JUVENILE FOR MORE INFO','PSYCHOPATHIC CASE','LOCATED','NOT PROSECUTED','JUVENILE DIVERTED','COMPLAINANT REFUSES TO PROSECUTE']\n",
    "all_else = {k: 2 for k in all_else}"
   ]
  },
  {
   "cell_type": "code",
   "execution_count": 106,
   "metadata": {
    "collapsed": false
   },
   "outputs": [],
   "source": [
    "all_else['NONE'] = 0"
   ]
  },
  {
   "cell_type": "code",
   "execution_count": 107,
   "metadata": {
    "collapsed": true
   },
   "outputs": [],
   "source": [
    "all_else['ARREST, BOOKED'] = 1"
   ]
  },
  {
   "cell_type": "code",
   "execution_count": 108,
   "metadata": {
    "collapsed": false
   },
   "outputs": [],
   "source": [
    "#map resolution\n",
    "incidents['Resolution_new'] = incidents['Resolution'].map(all_else)"
   ]
  },
  {
   "cell_type": "code",
   "execution_count": 109,
   "metadata": {
    "collapsed": false
   },
   "outputs": [
    {
     "data": {
      "text/html": [
       "<div>\n",
       "<table border=\"1\" class=\"dataframe\">\n",
       "  <thead>\n",
       "    <tr style=\"text-align: right;\">\n",
       "      <th></th>\n",
       "      <th>IncidntNum</th>\n",
       "      <th>Category</th>\n",
       "      <th>Descript</th>\n",
       "      <th>DayOfWeek</th>\n",
       "      <th>Date</th>\n",
       "      <th>Time</th>\n",
       "      <th>PdDistrict</th>\n",
       "      <th>Resolution</th>\n",
       "      <th>Address</th>\n",
       "      <th>X</th>\n",
       "      <th>Y</th>\n",
       "      <th>Location</th>\n",
       "      <th>PdId</th>\n",
       "      <th>Year</th>\n",
       "      <th>Month</th>\n",
       "      <th>Resolution_new</th>\n",
       "    </tr>\n",
       "    <tr>\n",
       "      <th>Date</th>\n",
       "      <th></th>\n",
       "      <th></th>\n",
       "      <th></th>\n",
       "      <th></th>\n",
       "      <th></th>\n",
       "      <th></th>\n",
       "      <th></th>\n",
       "      <th></th>\n",
       "      <th></th>\n",
       "      <th></th>\n",
       "      <th></th>\n",
       "      <th></th>\n",
       "      <th></th>\n",
       "      <th></th>\n",
       "      <th></th>\n",
       "      <th></th>\n",
       "    </tr>\n",
       "  </thead>\n",
       "  <tbody>\n",
       "    <tr>\n",
       "      <th>2015-07-18</th>\n",
       "      <td>126101083</td>\n",
       "      <td>LARCENY/THEFT</td>\n",
       "      <td>PETTY THEFT OF PROPERTY</td>\n",
       "      <td>Saturday</td>\n",
       "      <td>2015-07-18</td>\n",
       "      <td>11:35</td>\n",
       "      <td>PARK</td>\n",
       "      <td>NONE</td>\n",
       "      <td>2200 Block of OFARRELL ST</td>\n",
       "      <td>-122.441325</td>\n",
       "      <td>37.782291</td>\n",
       "      <td>(37.7822914617391, -122.441324830173)</td>\n",
       "      <td>12610108306372</td>\n",
       "      <td>2015</td>\n",
       "      <td>7</td>\n",
       "      <td>0</td>\n",
       "    </tr>\n",
       "    <tr>\n",
       "      <th>2015-10-28</th>\n",
       "      <td>130088372</td>\n",
       "      <td>VEHICLE THEFT</td>\n",
       "      <td>STOLEN AUTOMOBILE</td>\n",
       "      <td>Wednesday</td>\n",
       "      <td>2015-10-28</td>\n",
       "      <td>12:30</td>\n",
       "      <td>TARAVAL</td>\n",
       "      <td>NONE</td>\n",
       "      <td>2400 Block of OCEAN AV</td>\n",
       "      <td>-122.471004</td>\n",
       "      <td>37.730591</td>\n",
       "      <td>(37.7305910212673, -122.471004410599)</td>\n",
       "      <td>13008837207021</td>\n",
       "      <td>2015</td>\n",
       "      <td>10</td>\n",
       "      <td>0</td>\n",
       "    </tr>\n",
       "    <tr>\n",
       "      <th>2016-03-26</th>\n",
       "      <td>130190030</td>\n",
       "      <td>OTHER OFFENSES</td>\n",
       "      <td>LOST/STOLEN LICENSE PLATE</td>\n",
       "      <td>Saturday</td>\n",
       "      <td>2016-03-26</td>\n",
       "      <td>14:03</td>\n",
       "      <td>PARK</td>\n",
       "      <td>NONE</td>\n",
       "      <td>500 Block of PARNASSUS AV</td>\n",
       "      <td>-122.458221</td>\n",
       "      <td>37.763312</td>\n",
       "      <td>(37.7633123961354, -122.458220811697)</td>\n",
       "      <td>13019003071010</td>\n",
       "      <td>2016</td>\n",
       "      <td>3</td>\n",
       "      <td>0</td>\n",
       "    </tr>\n",
       "    <tr>\n",
       "      <th>2016-03-26</th>\n",
       "      <td>130190030</td>\n",
       "      <td>NON-CRIMINAL</td>\n",
       "      <td>LICENSE PLATE, RECOVERED</td>\n",
       "      <td>Saturday</td>\n",
       "      <td>2016-03-26</td>\n",
       "      <td>14:03</td>\n",
       "      <td>PARK</td>\n",
       "      <td>NONE</td>\n",
       "      <td>500 Block of PARNASSUS AV</td>\n",
       "      <td>-122.458221</td>\n",
       "      <td>37.763312</td>\n",
       "      <td>(37.7633123961354, -122.458220811697)</td>\n",
       "      <td>13019003071012</td>\n",
       "      <td>2016</td>\n",
       "      <td>3</td>\n",
       "      <td>0</td>\n",
       "    </tr>\n",
       "    <tr>\n",
       "      <th>2015-08-15</th>\n",
       "      <td>15013361</td>\n",
       "      <td>NON-CRIMINAL</td>\n",
       "      <td>FOUND PROPERTY</td>\n",
       "      <td>Saturday</td>\n",
       "      <td>2015-08-15</td>\n",
       "      <td>20:53</td>\n",
       "      <td>SOUTHERN</td>\n",
       "      <td>NONE</td>\n",
       "      <td>600 Block of 3RD ST</td>\n",
       "      <td>-122.393461</td>\n",
       "      <td>37.779498</td>\n",
       "      <td>(37.7794975702131, -122.393460953167)</td>\n",
       "      <td>1501336172000</td>\n",
       "      <td>2015</td>\n",
       "      <td>8</td>\n",
       "      <td>0</td>\n",
       "    </tr>\n",
       "    <tr>\n",
       "      <th>2016-03-10</th>\n",
       "      <td>150215981</td>\n",
       "      <td>NON-CRIMINAL</td>\n",
       "      <td>TRAFFIC ACCIDENT</td>\n",
       "      <td>Thursday</td>\n",
       "      <td>2016-03-10</td>\n",
       "      <td>17:12</td>\n",
       "      <td>MISSION</td>\n",
       "      <td>NONE</td>\n",
       "      <td>2500 Block of 23RD ST</td>\n",
       "      <td>-122.405248</td>\n",
       "      <td>37.754405</td>\n",
       "      <td>(37.754404748573, -122.405248327082)</td>\n",
       "      <td>15021598168050</td>\n",
       "      <td>2016</td>\n",
       "      <td>3</td>\n",
       "      <td>0</td>\n",
       "    </tr>\n",
       "    <tr>\n",
       "      <th>2015-09-16</th>\n",
       "      <td>150271080</td>\n",
       "      <td>LARCENY/THEFT</td>\n",
       "      <td>GRAND THEFT OF PROPERTY</td>\n",
       "      <td>Wednesday</td>\n",
       "      <td>2015-09-16</td>\n",
       "      <td>15:00</td>\n",
       "      <td>SOUTHERN</td>\n",
       "      <td>NONE</td>\n",
       "      <td>MARKET ST / 7TH ST</td>\n",
       "      <td>-122.412515</td>\n",
       "      <td>37.780478</td>\n",
       "      <td>(37.7804777480508, -122.412515341356)</td>\n",
       "      <td>15027108006374</td>\n",
       "      <td>2015</td>\n",
       "      <td>9</td>\n",
       "      <td>0</td>\n",
       "    </tr>\n",
       "    <tr>\n",
       "      <th>2015-10-15</th>\n",
       "      <td>150284544</td>\n",
       "      <td>LARCENY/THEFT</td>\n",
       "      <td>GRAND THEFT FROM A BUILDING</td>\n",
       "      <td>Thursday</td>\n",
       "      <td>2015-10-15</td>\n",
       "      <td>00:01</td>\n",
       "      <td>SOUTHERN</td>\n",
       "      <td>NONE</td>\n",
       "      <td>100 Block of OTIS ST</td>\n",
       "      <td>-122.420303</td>\n",
       "      <td>37.770897</td>\n",
       "      <td>(37.770896885856, -122.420303482492)</td>\n",
       "      <td>15028454406304</td>\n",
       "      <td>2015</td>\n",
       "      <td>10</td>\n",
       "      <td>0</td>\n",
       "    </tr>\n",
       "    <tr>\n",
       "      <th>2015-07-22</th>\n",
       "      <td>150313165</td>\n",
       "      <td>OTHER OFFENSES</td>\n",
       "      <td>FALSE PERSONATION</td>\n",
       "      <td>Wednesday</td>\n",
       "      <td>2015-07-22</td>\n",
       "      <td>00:01</td>\n",
       "      <td>NORTHERN</td>\n",
       "      <td>NONE</td>\n",
       "      <td>2300 Block of PACIFIC AV</td>\n",
       "      <td>-122.433916</td>\n",
       "      <td>37.793396</td>\n",
       "      <td>(37.7933961776201, -122.433915817274)</td>\n",
       "      <td>15031316509027</td>\n",
       "      <td>2015</td>\n",
       "      <td>7</td>\n",
       "      <td>0</td>\n",
       "    </tr>\n",
       "    <tr>\n",
       "      <th>2015-06-06</th>\n",
       "      <td>150375030</td>\n",
       "      <td>OTHER OFFENSES</td>\n",
       "      <td>DRIVERS LICENSE, SUSPENDED OR REVOKED</td>\n",
       "      <td>Saturday</td>\n",
       "      <td>2015-06-06</td>\n",
       "      <td>09:42</td>\n",
       "      <td>PARK</td>\n",
       "      <td>NONE</td>\n",
       "      <td>MARKET ST / HATTIE ST</td>\n",
       "      <td>-122.440987</td>\n",
       "      <td>37.761078</td>\n",
       "      <td>(37.7610778421189, -122.440986771557)</td>\n",
       "      <td>15037503065016</td>\n",
       "      <td>2015</td>\n",
       "      <td>6</td>\n",
       "      <td>0</td>\n",
       "    </tr>\n",
       "    <tr>\n",
       "      <th>2015-06-05</th>\n",
       "      <td>150393703</td>\n",
       "      <td>NON-CRIMINAL</td>\n",
       "      <td>CIVIL SIDEWALKS, WARNING</td>\n",
       "      <td>Friday</td>\n",
       "      <td>2015-06-05</td>\n",
       "      <td>12:20</td>\n",
       "      <td>NORTHERN</td>\n",
       "      <td>NONE</td>\n",
       "      <td>OLIVE ST / LARKIN ST</td>\n",
       "      <td>-122.417809</td>\n",
       "      <td>37.784710</td>\n",
       "      <td>(37.7847098968616, -122.4178091031)</td>\n",
       "      <td>15039370364001</td>\n",
       "      <td>2015</td>\n",
       "      <td>6</td>\n",
       "      <td>0</td>\n",
       "    </tr>\n",
       "    <tr>\n",
       "      <th>2015-06-09</th>\n",
       "      <td>150504198</td>\n",
       "      <td>ASSAULT</td>\n",
       "      <td>BATTERY</td>\n",
       "      <td>Tuesday</td>\n",
       "      <td>2015-06-09</td>\n",
       "      <td>16:18</td>\n",
       "      <td>INGLESIDE</td>\n",
       "      <td>NONE</td>\n",
       "      <td>100 Block of BALTIMORE WY</td>\n",
       "      <td>-122.433363</td>\n",
       "      <td>37.708518</td>\n",
       "      <td>(37.7085179068258, -122.433363325642)</td>\n",
       "      <td>15050419804134</td>\n",
       "      <td>2015</td>\n",
       "      <td>6</td>\n",
       "      <td>0</td>\n",
       "    </tr>\n",
       "  </tbody>\n",
       "</table>\n",
       "</div>"
      ],
      "text/plain": [
       "            IncidntNum        Category                               Descript  \\\n",
       "Date                                                                            \n",
       "2015-07-18   126101083   LARCENY/THEFT                PETTY THEFT OF PROPERTY   \n",
       "2015-10-28   130088372   VEHICLE THEFT                      STOLEN AUTOMOBILE   \n",
       "2016-03-26   130190030  OTHER OFFENSES              LOST/STOLEN LICENSE PLATE   \n",
       "2016-03-26   130190030    NON-CRIMINAL               LICENSE PLATE, RECOVERED   \n",
       "2015-08-15    15013361    NON-CRIMINAL                         FOUND PROPERTY   \n",
       "2016-03-10   150215981    NON-CRIMINAL                       TRAFFIC ACCIDENT   \n",
       "2015-09-16   150271080   LARCENY/THEFT                GRAND THEFT OF PROPERTY   \n",
       "2015-10-15   150284544   LARCENY/THEFT            GRAND THEFT FROM A BUILDING   \n",
       "2015-07-22   150313165  OTHER OFFENSES                      FALSE PERSONATION   \n",
       "2015-06-06   150375030  OTHER OFFENSES  DRIVERS LICENSE, SUSPENDED OR REVOKED   \n",
       "2015-06-05   150393703    NON-CRIMINAL               CIVIL SIDEWALKS, WARNING   \n",
       "2015-06-09   150504198         ASSAULT                                BATTERY   \n",
       "\n",
       "            DayOfWeek       Date   Time PdDistrict Resolution  \\\n",
       "Date                                                            \n",
       "2015-07-18   Saturday 2015-07-18  11:35       PARK       NONE   \n",
       "2015-10-28  Wednesday 2015-10-28  12:30    TARAVAL       NONE   \n",
       "2016-03-26   Saturday 2016-03-26  14:03       PARK       NONE   \n",
       "2016-03-26   Saturday 2016-03-26  14:03       PARK       NONE   \n",
       "2015-08-15   Saturday 2015-08-15  20:53   SOUTHERN       NONE   \n",
       "2016-03-10   Thursday 2016-03-10  17:12    MISSION       NONE   \n",
       "2015-09-16  Wednesday 2015-09-16  15:00   SOUTHERN       NONE   \n",
       "2015-10-15   Thursday 2015-10-15  00:01   SOUTHERN       NONE   \n",
       "2015-07-22  Wednesday 2015-07-22  00:01   NORTHERN       NONE   \n",
       "2015-06-06   Saturday 2015-06-06  09:42       PARK       NONE   \n",
       "2015-06-05     Friday 2015-06-05  12:20   NORTHERN       NONE   \n",
       "2015-06-09    Tuesday 2015-06-09  16:18  INGLESIDE       NONE   \n",
       "\n",
       "                              Address           X          Y  \\\n",
       "Date                                                           \n",
       "2015-07-18  2200 Block of OFARRELL ST -122.441325  37.782291   \n",
       "2015-10-28     2400 Block of OCEAN AV -122.471004  37.730591   \n",
       "2016-03-26  500 Block of PARNASSUS AV -122.458221  37.763312   \n",
       "2016-03-26  500 Block of PARNASSUS AV -122.458221  37.763312   \n",
       "2015-08-15        600 Block of 3RD ST -122.393461  37.779498   \n",
       "2016-03-10      2500 Block of 23RD ST -122.405248  37.754405   \n",
       "2015-09-16         MARKET ST / 7TH ST -122.412515  37.780478   \n",
       "2015-10-15       100 Block of OTIS ST -122.420303  37.770897   \n",
       "2015-07-22   2300 Block of PACIFIC AV -122.433916  37.793396   \n",
       "2015-06-06      MARKET ST / HATTIE ST -122.440987  37.761078   \n",
       "2015-06-05       OLIVE ST / LARKIN ST -122.417809  37.784710   \n",
       "2015-06-09  100 Block of BALTIMORE WY -122.433363  37.708518   \n",
       "\n",
       "                                         Location            PdId  Year  \\\n",
       "Date                                                                      \n",
       "2015-07-18  (37.7822914617391, -122.441324830173)  12610108306372  2015   \n",
       "2015-10-28  (37.7305910212673, -122.471004410599)  13008837207021  2015   \n",
       "2016-03-26  (37.7633123961354, -122.458220811697)  13019003071010  2016   \n",
       "2016-03-26  (37.7633123961354, -122.458220811697)  13019003071012  2016   \n",
       "2015-08-15  (37.7794975702131, -122.393460953167)   1501336172000  2015   \n",
       "2016-03-10   (37.754404748573, -122.405248327082)  15021598168050  2016   \n",
       "2015-09-16  (37.7804777480508, -122.412515341356)  15027108006374  2015   \n",
       "2015-10-15   (37.770896885856, -122.420303482492)  15028454406304  2015   \n",
       "2015-07-22  (37.7933961776201, -122.433915817274)  15031316509027  2015   \n",
       "2015-06-06  (37.7610778421189, -122.440986771557)  15037503065016  2015   \n",
       "2015-06-05    (37.7847098968616, -122.4178091031)  15039370364001  2015   \n",
       "2015-06-09  (37.7085179068258, -122.433363325642)  15050419804134  2015   \n",
       "\n",
       "            Month  Resolution_new  \n",
       "Date                               \n",
       "2015-07-18      7               0  \n",
       "2015-10-28     10               0  \n",
       "2016-03-26      3               0  \n",
       "2016-03-26      3               0  \n",
       "2015-08-15      8               0  \n",
       "2016-03-10      3               0  \n",
       "2015-09-16      9               0  \n",
       "2015-10-15     10               0  \n",
       "2015-07-22      7               0  \n",
       "2015-06-06      6               0  \n",
       "2015-06-05      6               0  \n",
       "2015-06-09      6               0  "
      ]
     },
     "execution_count": 109,
     "metadata": {},
     "output_type": "execute_result"
    }
   ],
   "source": [
    "incidents[incidents['Resolution_new'] == 0].head(12)"
   ]
  },
  {
   "cell_type": "code",
   "execution_count": 110,
   "metadata": {
    "collapsed": false
   },
   "outputs": [],
   "source": [
    "incidents1['resolution'] = incidents[\"Resolution_new\"]"
   ]
  },
  {
   "cell_type": "code",
   "execution_count": 111,
   "metadata": {
    "collapsed": false
   },
   "outputs": [
    {
     "data": {
      "text/plain": [
       "770"
      ]
     },
     "execution_count": 111,
     "metadata": {},
     "output_type": "execute_result"
    }
   ],
   "source": [
    "incidents1.columns.tolist().index('resolution')"
   ]
  },
  {
   "cell_type": "code",
   "execution_count": 112,
   "metadata": {
    "collapsed": true
   },
   "outputs": [],
   "source": [
    "feature_columns = incidents1.columns.tolist()[:770:]"
   ]
  },
  {
   "cell_type": "code",
   "execution_count": 113,
   "metadata": {
    "collapsed": false
   },
   "outputs": [],
   "source": [
    "x = incidents1[feature_columns]\n",
    "y = incidents1.resolution"
   ]
  },
  {
   "cell_type": "code",
   "execution_count": 114,
   "metadata": {
    "collapsed": false
   },
   "outputs": [],
   "source": [
    "from sklearn.cross_validation import train_test_split\n",
    "x_train, x_test, y_train, y_test = train_test_split (x, y)"
   ]
  },
  {
   "cell_type": "code",
   "execution_count": 115,
   "metadata": {
    "collapsed": false
   },
   "outputs": [
    {
     "data": {
      "text/plain": [
       "RandomForestClassifier(bootstrap=True, class_weight=None, criterion='gini',\n",
       "            max_depth=None, max_features='auto', max_leaf_nodes=None,\n",
       "            min_samples_leaf=1, min_samples_split=2,\n",
       "            min_weight_fraction_leaf=0.0, n_estimators=10, n_jobs=1,\n",
       "            oob_score=False, random_state=None, verbose=0,\n",
       "            warm_start=False)"
      ]
     },
     "execution_count": 115,
     "metadata": {},
     "output_type": "execute_result"
    }
   ],
   "source": [
    "from sklearn.ensemble import RandomForestClassifier \n",
    "rfreg = RandomForestClassifier()\n",
    "rfreg.fit(x_train, y_train)"
   ]
  },
  {
   "cell_type": "code",
   "execution_count": 77,
   "metadata": {
    "collapsed": false
   },
   "outputs": [],
   "source": [
    "z=rfreg.predict(x_test)"
   ]
  },
  {
   "cell_type": "code",
   "execution_count": 78,
   "metadata": {
    "collapsed": false
   },
   "outputs": [
    {
     "name": "stdout",
     "output_type": "stream",
     "text": [
      "34367\n"
     ]
    }
   ],
   "source": [
    "print len(y_test)\n"
   ]
  },
  {
   "cell_type": "code",
   "execution_count": 79,
   "metadata": {
    "collapsed": false
   },
   "outputs": [
    {
     "name": "stdout",
     "output_type": "stream",
     "text": [
      "[[22551  1423   113]\n",
      " [ 2320  6969    69]\n",
      " [  533   293    96]]\n"
     ]
    }
   ],
   "source": [
    "from sklearn import metrics\n",
    "print metrics.confusion_matrix(y_test, z)"
   ]
  },
  {
   "cell_type": "code",
   "execution_count": 80,
   "metadata": {
    "collapsed": false
   },
   "outputs": [
    {
     "data": {
      "text/plain": [
       "0.86175691797363752"
      ]
     },
     "execution_count": 80,
     "metadata": {},
     "output_type": "execute_result"
    }
   ],
   "source": [
    "from sklearn.metrics import accuracy_score\n",
    "accuracy_score(y_test, z)"
   ]
  },
  {
   "cell_type": "code",
   "execution_count": 81,
   "metadata": {
    "collapsed": false
   },
   "outputs": [
    {
     "name": "stdout",
     "output_type": "stream",
     "text": [
      "34367 34367\n"
     ]
    }
   ],
   "source": [
    "print len(z), len(y_test)"
   ]
  },
  {
   "cell_type": "code",
   "execution_count": 116,
   "metadata": {
    "collapsed": false
   },
   "outputs": [],
   "source": [
    "new_df = pd.concat([incidents1, incidents])"
   ]
  },
  {
   "cell_type": "code",
   "execution_count": 83,
   "metadata": {
    "collapsed": false
   },
   "outputs": [
    {
     "data": {
      "text/html": [
       "<div>\n",
       "<table border=\"1\" class=\"dataframe\">\n",
       "  <thead>\n",
       "    <tr style=\"text-align: right;\">\n",
       "      <th></th>\n",
       "      <th>Address</th>\n",
       "      <th>C_ASSAULT</th>\n",
       "      <th>C_BAD CHECKS</th>\n",
       "      <th>C_BRIBERY</th>\n",
       "      <th>C_BURGLARY</th>\n",
       "      <th>C_DISORDERLY CONDUCT</th>\n",
       "      <th>C_DRIVING UNDER THE INFLUENCE</th>\n",
       "      <th>C_DRUG/NARCOTIC</th>\n",
       "      <th>C_DRUNKENNESS</th>\n",
       "      <th>C_EMBEZZLEMENT</th>\n",
       "      <th>...</th>\n",
       "      <th>PdDistrict_SOUTHERN</th>\n",
       "      <th>PdDistrict_TARAVAL</th>\n",
       "      <th>PdDistrict_TENDERLOIN</th>\n",
       "      <th>PdId</th>\n",
       "      <th>Resolution</th>\n",
       "      <th>Resolution_new</th>\n",
       "      <th>Time</th>\n",
       "      <th>X</th>\n",
       "      <th>Y</th>\n",
       "      <th>resolution</th>\n",
       "    </tr>\n",
       "  </thead>\n",
       "  <tbody>\n",
       "    <tr>\n",
       "      <th>0</th>\n",
       "      <td>NaN</td>\n",
       "      <td>0</td>\n",
       "      <td>0</td>\n",
       "      <td>0</td>\n",
       "      <td>0</td>\n",
       "      <td>0</td>\n",
       "      <td>0</td>\n",
       "      <td>0</td>\n",
       "      <td>0</td>\n",
       "      <td>0</td>\n",
       "      <td>...</td>\n",
       "      <td>0</td>\n",
       "      <td>0</td>\n",
       "      <td>0</td>\n",
       "      <td>NaN</td>\n",
       "      <td>NaN</td>\n",
       "      <td>NaN</td>\n",
       "      <td>NaN</td>\n",
       "      <td>NaN</td>\n",
       "      <td>NaN</td>\n",
       "      <td>1</td>\n",
       "    </tr>\n",
       "    <tr>\n",
       "      <th>1</th>\n",
       "      <td>NaN</td>\n",
       "      <td>1</td>\n",
       "      <td>0</td>\n",
       "      <td>0</td>\n",
       "      <td>0</td>\n",
       "      <td>0</td>\n",
       "      <td>0</td>\n",
       "      <td>0</td>\n",
       "      <td>0</td>\n",
       "      <td>0</td>\n",
       "      <td>...</td>\n",
       "      <td>0</td>\n",
       "      <td>0</td>\n",
       "      <td>0</td>\n",
       "      <td>NaN</td>\n",
       "      <td>NaN</td>\n",
       "      <td>NaN</td>\n",
       "      <td>NaN</td>\n",
       "      <td>NaN</td>\n",
       "      <td>NaN</td>\n",
       "      <td>1</td>\n",
       "    </tr>\n",
       "    <tr>\n",
       "      <th>2</th>\n",
       "      <td>NaN</td>\n",
       "      <td>0</td>\n",
       "      <td>0</td>\n",
       "      <td>0</td>\n",
       "      <td>0</td>\n",
       "      <td>0</td>\n",
       "      <td>0</td>\n",
       "      <td>0</td>\n",
       "      <td>0</td>\n",
       "      <td>0</td>\n",
       "      <td>...</td>\n",
       "      <td>0</td>\n",
       "      <td>0</td>\n",
       "      <td>0</td>\n",
       "      <td>NaN</td>\n",
       "      <td>NaN</td>\n",
       "      <td>NaN</td>\n",
       "      <td>NaN</td>\n",
       "      <td>NaN</td>\n",
       "      <td>NaN</td>\n",
       "      <td>1</td>\n",
       "    </tr>\n",
       "    <tr>\n",
       "      <th>3</th>\n",
       "      <td>NaN</td>\n",
       "      <td>0</td>\n",
       "      <td>0</td>\n",
       "      <td>0</td>\n",
       "      <td>0</td>\n",
       "      <td>0</td>\n",
       "      <td>0</td>\n",
       "      <td>0</td>\n",
       "      <td>0</td>\n",
       "      <td>0</td>\n",
       "      <td>...</td>\n",
       "      <td>0</td>\n",
       "      <td>0</td>\n",
       "      <td>0</td>\n",
       "      <td>NaN</td>\n",
       "      <td>NaN</td>\n",
       "      <td>NaN</td>\n",
       "      <td>NaN</td>\n",
       "      <td>NaN</td>\n",
       "      <td>NaN</td>\n",
       "      <td>1</td>\n",
       "    </tr>\n",
       "    <tr>\n",
       "      <th>4</th>\n",
       "      <td>NaN</td>\n",
       "      <td>0</td>\n",
       "      <td>0</td>\n",
       "      <td>0</td>\n",
       "      <td>0</td>\n",
       "      <td>0</td>\n",
       "      <td>0</td>\n",
       "      <td>0</td>\n",
       "      <td>0</td>\n",
       "      <td>0</td>\n",
       "      <td>...</td>\n",
       "      <td>0</td>\n",
       "      <td>1</td>\n",
       "      <td>0</td>\n",
       "      <td>NaN</td>\n",
       "      <td>NaN</td>\n",
       "      <td>NaN</td>\n",
       "      <td>NaN</td>\n",
       "      <td>NaN</td>\n",
       "      <td>NaN</td>\n",
       "      <td>1</td>\n",
       "    </tr>\n",
       "  </tbody>\n",
       "</table>\n",
       "<p>5 rows × 785 columns</p>\n",
       "</div>"
      ],
      "text/plain": [
       "  Address  C_ASSAULT  C_BAD CHECKS  C_BRIBERY  C_BURGLARY  \\\n",
       "0     NaN          0             0          0           0   \n",
       "1     NaN          1             0          0           0   \n",
       "2     NaN          0             0          0           0   \n",
       "3     NaN          0             0          0           0   \n",
       "4     NaN          0             0          0           0   \n",
       "\n",
       "   C_DISORDERLY CONDUCT  C_DRIVING UNDER THE INFLUENCE  C_DRUG/NARCOTIC  \\\n",
       "0                     0                              0                0   \n",
       "1                     0                              0                0   \n",
       "2                     0                              0                0   \n",
       "3                     0                              0                0   \n",
       "4                     0                              0                0   \n",
       "\n",
       "   C_DRUNKENNESS  C_EMBEZZLEMENT     ...      PdDistrict_SOUTHERN  \\\n",
       "0              0               0     ...                        0   \n",
       "1              0               0     ...                        0   \n",
       "2              0               0     ...                        0   \n",
       "3              0               0     ...                        0   \n",
       "4              0               0     ...                        0   \n",
       "\n",
       "   PdDistrict_TARAVAL  PdDistrict_TENDERLOIN  PdId  Resolution  \\\n",
       "0                   0                      0   NaN         NaN   \n",
       "1                   0                      0   NaN         NaN   \n",
       "2                   0                      0   NaN         NaN   \n",
       "3                   0                      0   NaN         NaN   \n",
       "4                   1                      0   NaN         NaN   \n",
       "\n",
       "   Resolution_new  Time   X   Y  resolution  \n",
       "0             NaN   NaN NaN NaN           1  \n",
       "1             NaN   NaN NaN NaN           1  \n",
       "2             NaN   NaN NaN NaN           1  \n",
       "3             NaN   NaN NaN NaN           1  \n",
       "4             NaN   NaN NaN NaN           1  \n",
       "\n",
       "[5 rows x 785 columns]"
      ]
     },
     "execution_count": 83,
     "metadata": {},
     "output_type": "execute_result"
    }
   ],
   "source": [
    "new_df.head()"
   ]
  },
  {
   "cell_type": "code",
   "execution_count": 84,
   "metadata": {
    "collapsed": false
   },
   "outputs": [
    {
     "data": {
      "text/plain": [
       "Index([u'DOW_Monday', u'DOW_Saturday', u'DOW_Sunday', u'DOW_Thursday',\n",
       "       u'DOW_Tuesday', u'DOW_Wednesday', u'C_ASSAULT', u'C_BAD CHECKS',\n",
       "       u'C_BRIBERY', u'C_BURGLARY',\n",
       "       ...\n",
       "       u'PdDistrict_CENTRAL', u'PdDistrict_INGLESIDE', u'PdDistrict_MISSION',\n",
       "       u'PdDistrict_NORTHERN', u'PdDistrict_PARK', u'PdDistrict_RICHMOND',\n",
       "       u'PdDistrict_SOUTHERN', u'PdDistrict_TARAVAL', u'PdDistrict_TENDERLOIN',\n",
       "       u'resolution'],\n",
       "      dtype='object', length=771)"
      ]
     },
     "execution_count": 84,
     "metadata": {},
     "output_type": "execute_result"
    }
   ],
   "source": [
    "incidents1.columns"
   ]
  },
  {
   "cell_type": "code",
   "execution_count": 120,
   "metadata": {
    "collapsed": false
   },
   "outputs": [],
   "source": [
    "from sklearn.linear_model import LogisticRegression\n",
    "from sklearn.cross_validation import cross_val_score\n",
    "logreg = LogisticRegression(C=1e9)\n",
    "X = incidents1.drop('resolution', axis=1)\n",
    "y = incidents1.resolution\n",
    "cross_val_score(logreg, X, y, cv=5, scoring='accuracy') #better than the null\n",
    "logreg.fit(X, y)\n",
    "resolution_pred = logreg.predict(X)"
   ]
  },
  {
   "cell_type": "code",
   "execution_count": 122,
   "metadata": {
    "collapsed": false
   },
   "outputs": [
    {
     "data": {
      "text/plain": [
       "0.87435621380975936"
      ]
     },
     "execution_count": 122,
     "metadata": {},
     "output_type": "execute_result"
    }
   ],
   "source": [
    "logreg.score(x_test, y_test) #accuracy score"
   ]
  },
  {
   "cell_type": "code",
   "execution_count": 101,
   "metadata": {
    "collapsed": false
   },
   "outputs": [
    {
     "name": "stdout",
     "output_type": "stream",
     "text": [
      "[0 1 1 ..., 0 2 1]\n"
     ]
    }
   ],
   "source": [
    "print resolution_pred"
   ]
  },
  {
   "cell_type": "code",
   "execution_count": 109,
   "metadata": {
    "collapsed": false
   },
   "outputs": [
    {
     "data": {
      "text/plain": [
       "Index([u'DOW_Monday', u'DOW_Saturday', u'DOW_Sunday', u'DOW_Thursday',\n",
       "       u'DOW_Tuesday', u'DOW_Wednesday', u'C_ASSAULT', u'C_BAD CHECKS',\n",
       "       u'C_BRIBERY', u'C_BURGLARY',\n",
       "       ...\n",
       "       u'Descript_WILLFUL CRUELTY TO CHILD', u'PdDistrict_CENTRAL',\n",
       "       u'PdDistrict_INGLESIDE', u'PdDistrict_MISSION', u'PdDistrict_NORTHERN',\n",
       "       u'PdDistrict_PARK', u'PdDistrict_RICHMOND', u'PdDistrict_SOUTHERN',\n",
       "       u'PdDistrict_TARAVAL', u'PdDistrict_TENDERLOIN'],\n",
       "      dtype='object', length=770)"
      ]
     },
     "execution_count": 109,
     "metadata": {},
     "output_type": "execute_result"
    }
   ],
   "source": [
    "x.columns"
   ]
  },
  {
   "cell_type": "code",
   "execution_count": 108,
   "metadata": {
    "collapsed": false
   },
   "outputs": [
    {
     "name": "stdout",
     "output_type": "stream",
     "text": [
      "[[ 0.57166118  0.31875271  0.10958611]\n",
      " [ 0.38964686  0.5843314   0.02602174]\n",
      " [ 0.04921647  0.93564312  0.01514041]\n",
      " ..., \n",
      " [ 0.79852214  0.04772635  0.15375151]\n",
      " [ 0.35723082  0.13176649  0.51100268]\n",
      " [ 0.05393111  0.93077365  0.01529524]]\n"
     ]
    }
   ],
   "source": [
    "print logreg.predict_proba (X)"
   ]
  },
  {
   "cell_type": "code",
   "execution_count": 120,
   "metadata": {
    "collapsed": false
   },
   "outputs": [],
   "source": [
    "incidents1['proba'] = logreg.predict_proba(X).tolist()"
   ]
  },
  {
   "cell_type": "code",
   "execution_count": 122,
   "metadata": {
    "collapsed": false
   },
   "outputs": [
    {
     "data": {
      "text/html": [
       "<div>\n",
       "<table border=\"1\" class=\"dataframe\">\n",
       "  <thead>\n",
       "    <tr style=\"text-align: right;\">\n",
       "      <th></th>\n",
       "      <th>DOW_Monday</th>\n",
       "      <th>DOW_Saturday</th>\n",
       "      <th>DOW_Sunday</th>\n",
       "      <th>DOW_Thursday</th>\n",
       "      <th>DOW_Tuesday</th>\n",
       "      <th>DOW_Wednesday</th>\n",
       "      <th>C_ASSAULT</th>\n",
       "      <th>C_BAD CHECKS</th>\n",
       "      <th>C_BRIBERY</th>\n",
       "      <th>C_BURGLARY</th>\n",
       "      <th>...</th>\n",
       "      <th>PdDistrict_INGLESIDE</th>\n",
       "      <th>PdDistrict_MISSION</th>\n",
       "      <th>PdDistrict_NORTHERN</th>\n",
       "      <th>PdDistrict_PARK</th>\n",
       "      <th>PdDistrict_RICHMOND</th>\n",
       "      <th>PdDistrict_SOUTHERN</th>\n",
       "      <th>PdDistrict_TARAVAL</th>\n",
       "      <th>PdDistrict_TENDERLOIN</th>\n",
       "      <th>resolution</th>\n",
       "      <th>proba</th>\n",
       "    </tr>\n",
       "  </thead>\n",
       "  <tbody>\n",
       "    <tr>\n",
       "      <th>0</th>\n",
       "      <td>0</td>\n",
       "      <td>0</td>\n",
       "      <td>0</td>\n",
       "      <td>1</td>\n",
       "      <td>0</td>\n",
       "      <td>0</td>\n",
       "      <td>0</td>\n",
       "      <td>0</td>\n",
       "      <td>0</td>\n",
       "      <td>0</td>\n",
       "      <td>...</td>\n",
       "      <td>0</td>\n",
       "      <td>0</td>\n",
       "      <td>1</td>\n",
       "      <td>0</td>\n",
       "      <td>0</td>\n",
       "      <td>0</td>\n",
       "      <td>0</td>\n",
       "      <td>0</td>\n",
       "      <td>1</td>\n",
       "      <td>[0.571661181932, 0.318752712953, 0.109586105115]</td>\n",
       "    </tr>\n",
       "    <tr>\n",
       "      <th>1</th>\n",
       "      <td>0</td>\n",
       "      <td>0</td>\n",
       "      <td>0</td>\n",
       "      <td>1</td>\n",
       "      <td>0</td>\n",
       "      <td>0</td>\n",
       "      <td>1</td>\n",
       "      <td>0</td>\n",
       "      <td>0</td>\n",
       "      <td>0</td>\n",
       "      <td>...</td>\n",
       "      <td>0</td>\n",
       "      <td>0</td>\n",
       "      <td>1</td>\n",
       "      <td>0</td>\n",
       "      <td>0</td>\n",
       "      <td>0</td>\n",
       "      <td>0</td>\n",
       "      <td>0</td>\n",
       "      <td>1</td>\n",
       "      <td>[0.389646858758, 0.584331403476, 0.0260217377658]</td>\n",
       "    </tr>\n",
       "    <tr>\n",
       "      <th>2</th>\n",
       "      <td>0</td>\n",
       "      <td>0</td>\n",
       "      <td>0</td>\n",
       "      <td>1</td>\n",
       "      <td>0</td>\n",
       "      <td>0</td>\n",
       "      <td>0</td>\n",
       "      <td>0</td>\n",
       "      <td>0</td>\n",
       "      <td>0</td>\n",
       "      <td>...</td>\n",
       "      <td>0</td>\n",
       "      <td>0</td>\n",
       "      <td>1</td>\n",
       "      <td>0</td>\n",
       "      <td>0</td>\n",
       "      <td>0</td>\n",
       "      <td>0</td>\n",
       "      <td>0</td>\n",
       "      <td>1</td>\n",
       "      <td>[0.049216468001, 0.935643118216, 0.0151404137826]</td>\n",
       "    </tr>\n",
       "    <tr>\n",
       "      <th>3</th>\n",
       "      <td>0</td>\n",
       "      <td>0</td>\n",
       "      <td>0</td>\n",
       "      <td>1</td>\n",
       "      <td>0</td>\n",
       "      <td>0</td>\n",
       "      <td>0</td>\n",
       "      <td>0</td>\n",
       "      <td>0</td>\n",
       "      <td>0</td>\n",
       "      <td>...</td>\n",
       "      <td>0</td>\n",
       "      <td>0</td>\n",
       "      <td>1</td>\n",
       "      <td>0</td>\n",
       "      <td>0</td>\n",
       "      <td>0</td>\n",
       "      <td>0</td>\n",
       "      <td>0</td>\n",
       "      <td>1</td>\n",
       "      <td>[0.400245690586, 0.127608423913, 0.472145885502]</td>\n",
       "    </tr>\n",
       "    <tr>\n",
       "      <th>4</th>\n",
       "      <td>0</td>\n",
       "      <td>0</td>\n",
       "      <td>0</td>\n",
       "      <td>0</td>\n",
       "      <td>0</td>\n",
       "      <td>0</td>\n",
       "      <td>0</td>\n",
       "      <td>0</td>\n",
       "      <td>0</td>\n",
       "      <td>0</td>\n",
       "      <td>...</td>\n",
       "      <td>0</td>\n",
       "      <td>0</td>\n",
       "      <td>0</td>\n",
       "      <td>0</td>\n",
       "      <td>0</td>\n",
       "      <td>0</td>\n",
       "      <td>1</td>\n",
       "      <td>0</td>\n",
       "      <td>1</td>\n",
       "      <td>[0.80263833197, 0.162265238553, 0.0350964294772]</td>\n",
       "    </tr>\n",
       "  </tbody>\n",
       "</table>\n",
       "<p>5 rows × 772 columns</p>\n",
       "</div>"
      ],
      "text/plain": [
       "   DOW_Monday  DOW_Saturday  DOW_Sunday  DOW_Thursday  DOW_Tuesday  \\\n",
       "0           0             0           0             1            0   \n",
       "1           0             0           0             1            0   \n",
       "2           0             0           0             1            0   \n",
       "3           0             0           0             1            0   \n",
       "4           0             0           0             0            0   \n",
       "\n",
       "   DOW_Wednesday  C_ASSAULT  C_BAD CHECKS  C_BRIBERY  C_BURGLARY  \\\n",
       "0              0          0             0          0           0   \n",
       "1              0          1             0          0           0   \n",
       "2              0          0             0          0           0   \n",
       "3              0          0             0          0           0   \n",
       "4              0          0             0          0           0   \n",
       "\n",
       "                         ...                          PdDistrict_INGLESIDE  \\\n",
       "0                        ...                                             0   \n",
       "1                        ...                                             0   \n",
       "2                        ...                                             0   \n",
       "3                        ...                                             0   \n",
       "4                        ...                                             0   \n",
       "\n",
       "   PdDistrict_MISSION  PdDistrict_NORTHERN  PdDistrict_PARK  \\\n",
       "0                   0                    1                0   \n",
       "1                   0                    1                0   \n",
       "2                   0                    1                0   \n",
       "3                   0                    1                0   \n",
       "4                   0                    0                0   \n",
       "\n",
       "   PdDistrict_RICHMOND  PdDistrict_SOUTHERN  PdDistrict_TARAVAL  \\\n",
       "0                    0                    0                   0   \n",
       "1                    0                    0                   0   \n",
       "2                    0                    0                   0   \n",
       "3                    0                    0                   0   \n",
       "4                    0                    0                   1   \n",
       "\n",
       "   PdDistrict_TENDERLOIN  resolution  \\\n",
       "0                      0           1   \n",
       "1                      0           1   \n",
       "2                      0           1   \n",
       "3                      0           1   \n",
       "4                      0           1   \n",
       "\n",
       "                                               proba  \n",
       "0   [0.571661181932, 0.318752712953, 0.109586105115]  \n",
       "1  [0.389646858758, 0.584331403476, 0.0260217377658]  \n",
       "2  [0.049216468001, 0.935643118216, 0.0151404137826]  \n",
       "3   [0.400245690586, 0.127608423913, 0.472145885502]  \n",
       "4   [0.80263833197, 0.162265238553, 0.0350964294772]  \n",
       "\n",
       "[5 rows x 772 columns]"
      ]
     },
     "execution_count": 122,
     "metadata": {},
     "output_type": "execute_result"
    }
   ],
   "source": [
    "incidents1.head()"
   ]
  },
  {
   "cell_type": "code",
   "execution_count": 111,
   "metadata": {
    "collapsed": false
   },
   "outputs": [
    {
     "name": "stdout",
     "output_type": "stream",
     "text": [
      "[0 1 2]\n"
     ]
    }
   ],
   "source": [
    "print logreg.classes_"
   ]
  },
  {
   "cell_type": "code",
   "execution_count": 90,
   "metadata": {
    "collapsed": false
   },
   "outputs": [
    {
     "data": {
      "text/plain": [
       "Index([u'DOW_Monday', u'DOW_Saturday', u'DOW_Sunday', u'DOW_Thursday',\n",
       "       u'DOW_Tuesday', u'DOW_Wednesday', u'C_ASSAULT', u'C_BAD CHECKS',\n",
       "       u'C_BRIBERY', u'C_BURGLARY',\n",
       "       ...\n",
       "       u'Descript_WILLFUL CRUELTY TO CHILD', u'PdDistrict_CENTRAL',\n",
       "       u'PdDistrict_INGLESIDE', u'PdDistrict_MISSION', u'PdDistrict_NORTHERN',\n",
       "       u'PdDistrict_PARK', u'PdDistrict_RICHMOND', u'PdDistrict_SOUTHERN',\n",
       "       u'PdDistrict_TARAVAL', u'PdDistrict_TENDERLOIN'],\n",
       "      dtype='object', length=770)"
      ]
     },
     "execution_count": 90,
     "metadata": {},
     "output_type": "execute_result"
    }
   ],
   "source": [
    "x.columns"
   ]
  },
  {
   "cell_type": "code",
   "execution_count": 91,
   "metadata": {
    "collapsed": false
   },
   "outputs": [
    {
     "data": {
      "text/plain": [
       "DOW_Monday                                                          0\n",
       "DOW_Saturday                                                        0\n",
       "DOW_Sunday                                                          0\n",
       "DOW_Thursday                                                        1\n",
       "DOW_Tuesday                                                         0\n",
       "DOW_Wednesday                                                       0\n",
       "C_ASSAULT                                                           0\n",
       "C_BAD CHECKS                                                        0\n",
       "C_BRIBERY                                                           0\n",
       "C_BURGLARY                                                          0\n",
       "C_DISORDERLY CONDUCT                                                0\n",
       "C_DRIVING UNDER THE INFLUENCE                                       0\n",
       "C_DRUG/NARCOTIC                                                     0\n",
       "C_DRUNKENNESS                                                       0\n",
       "C_EMBEZZLEMENT                                                      0\n",
       "C_EXTORTION                                                         0\n",
       "C_FAMILY OFFENSES                                                   0\n",
       "C_FORGERY/COUNTERFEITING                                            0\n",
       "C_FRAUD                                                             0\n",
       "C_GAMBLING                                                          0\n",
       "C_KIDNAPPING                                                        0\n",
       "C_LARCENY/THEFT                                                     0\n",
       "C_LIQUOR LAWS                                                       0\n",
       "C_LOITERING                                                         0\n",
       "C_MISSING PERSON                                                    0\n",
       "C_NON-CRIMINAL                                                      0\n",
       "C_OTHER OFFENSES                                                    0\n",
       "C_PORNOGRAPHY/OBSCENE MAT                                           0\n",
       "C_PROSTITUTION                                                      0\n",
       "C_RECOVERED VEHICLE                                                 0\n",
       "                                                                   ..\n",
       "Descript_VIN, ALTER OR REMOVE                                       0\n",
       "Descript_VIOLATION OF CIVIL GANG INJUNCTION                         0\n",
       "Descript_VIOLATION OF EMERGENCY PROTECTIVE ORDER                    0\n",
       "Descript_VIOLATION OF FEDERAL STATUTE                               0\n",
       "Descript_VIOLATION OF FIRE CODE                                     0\n",
       "Descript_VIOLATION OF MUNICIPAL CODE                                0\n",
       "Descript_VIOLATION OF MUNICIPAL POLICE CODE                         0\n",
       "Descript_VIOLATION OF PARK CODE                                     0\n",
       "Descript_VIOLATION OF RESTRAINING ORDER                             0\n",
       "Descript_VIOLATION OF RESTRICTIONS ON A FIREARM TRANSFER            0\n",
       "Descript_VIOLATION OF STAY AWAY ORDER                               0\n",
       "Descript_VISITING WHERE DRUGS ARE USED OR SMOKED                    0\n",
       "Descript_WARRANT ARREST                                             0\n",
       "Descript_WEAPON, ASSAULT, POSSESSION, MANUFACTURE, OR SALE          0\n",
       "Descript_WEAPON, ASSAULT, REGISTRATION OR TRANSFER VIOLATION        0\n",
       "Descript_WEAPON, DEADLY, CARRYING WITH INTENT TO COMMIT ASSAULT     0\n",
       "Descript_WEAPON, DEADLY, EXHIBITING TO RESIST ARREST                0\n",
       "Descript_WEAPON, POSSESS OR BRING OTHER ON SCHOOL GROUNDS           0\n",
       "Descript_WEAPON, TAKING OR ATTEMPTING TO TAKE FROM PEACE OFFICER    0\n",
       "Descript_WEARING MASK OR DISGUISE FOR UNLAWFUL PURPOSE              0\n",
       "Descript_WILLFUL CRUELTY TO CHILD                                   0\n",
       "PdDistrict_CENTRAL                                                  0\n",
       "PdDistrict_INGLESIDE                                                0\n",
       "PdDistrict_MISSION                                                  0\n",
       "PdDistrict_NORTHERN                                                 1\n",
       "PdDistrict_PARK                                                     0\n",
       "PdDistrict_RICHMOND                                                 0\n",
       "PdDistrict_SOUTHERN                                                 0\n",
       "PdDistrict_TARAVAL                                                  0\n",
       "PdDistrict_TENDERLOIN                                               0\n",
       "Name: 0, dtype: float64"
      ]
     },
     "execution_count": 91,
     "metadata": {},
     "output_type": "execute_result"
    }
   ],
   "source": [
    "X.loc[0]"
   ]
  },
  {
   "cell_type": "code",
   "execution_count": null,
   "metadata": {
    "collapsed": true
   },
   "outputs": [],
   "source": []
  },
  {
   "cell_type": "code",
   "execution_count": null,
   "metadata": {
    "collapsed": true
   },
   "outputs": [],
   "source": []
  }
 ],
 "metadata": {
  "kernelspec": {
   "display_name": "Python 2",
   "language": "python",
   "name": "python2"
  },
  "language_info": {
   "codemirror_mode": {
    "name": "ipython",
    "version": 2
   },
   "file_extension": ".py",
   "mimetype": "text/x-python",
   "name": "python",
   "nbconvert_exporter": "python",
   "pygments_lexer": "ipython2",
   "version": "2.7.11"
  }
 },
 "nbformat": 4,
 "nbformat_minor": 0
}
