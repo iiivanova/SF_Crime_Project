{
 "cells": [
  {
   "cell_type": "code",
   "execution_count": 39,
   "metadata": {
    "collapsed": true
   },
   "outputs": [],
   "source": [
    "import pandas as pd\n",
    "import numpy as np\n",
    "import matplotlib.pyplot as plt\n",
    "%matplotlib inline\n"
   ]
  },
  {
   "cell_type": "code",
   "execution_count": 40,
   "metadata": {
    "collapsed": false,
    "scrolled": true
   },
   "outputs": [
    {
     "data": {
      "text/html": [
       "<div>\n",
       "<table border=\"1\" class=\"dataframe\">\n",
       "  <thead>\n",
       "    <tr style=\"text-align: right;\">\n",
       "      <th></th>\n",
       "      <th>IncidntNum</th>\n",
       "      <th>Category</th>\n",
       "      <th>Descript</th>\n",
       "      <th>DayOfWeek</th>\n",
       "      <th>Date</th>\n",
       "      <th>Time</th>\n",
       "      <th>PdDistrict</th>\n",
       "      <th>Resolution</th>\n",
       "      <th>Address</th>\n",
       "      <th>X</th>\n",
       "      <th>Y</th>\n",
       "      <th>Location</th>\n",
       "      <th>PdId</th>\n",
       "    </tr>\n",
       "  </thead>\n",
       "  <tbody>\n",
       "    <tr>\n",
       "      <th>137462</th>\n",
       "      <td>70477746</td>\n",
       "      <td>ASSAULT</td>\n",
       "      <td>AGGRAVATED ASSAULT WITH A GUN</td>\n",
       "      <td>Wednesday</td>\n",
       "      <td>06/10/2015</td>\n",
       "      <td>11:00</td>\n",
       "      <td>SOUTHERN</td>\n",
       "      <td>NONE</td>\n",
       "      <td>5TH ST / HARRISON ST</td>\n",
       "      <td>-122.401846</td>\n",
       "      <td>37.779032</td>\n",
       "      <td>(37.7790324136251, -122.401846367522)</td>\n",
       "      <td>7047774604011</td>\n",
       "    </tr>\n",
       "    <tr>\n",
       "      <th>137463</th>\n",
       "      <td>81076498</td>\n",
       "      <td>MISSING PERSON</td>\n",
       "      <td>FOUND PERSON</td>\n",
       "      <td>Monday</td>\n",
       "      <td>03/28/2016</td>\n",
       "      <td>14:00</td>\n",
       "      <td>TARAVAL</td>\n",
       "      <td>NONE</td>\n",
       "      <td>2300 Block of 24TH AV</td>\n",
       "      <td>-122.481183</td>\n",
       "      <td>37.743727</td>\n",
       "      <td>(37.7437268170337, -122.48118317163)</td>\n",
       "      <td>8107649875000</td>\n",
       "    </tr>\n",
       "    <tr>\n",
       "      <th>137464</th>\n",
       "      <td>961392021</td>\n",
       "      <td>MISSING PERSON</td>\n",
       "      <td>FOUND PERSON</td>\n",
       "      <td>Wednesday</td>\n",
       "      <td>02/24/2016</td>\n",
       "      <td>00:01</td>\n",
       "      <td>SOUTHERN</td>\n",
       "      <td>EXCEPTIONAL CLEARANCE</td>\n",
       "      <td>800 Block of BRYANT ST</td>\n",
       "      <td>-122.403405</td>\n",
       "      <td>37.775421</td>\n",
       "      <td>(37.775420706711, -122.403404791479)</td>\n",
       "      <td>96139202175000</td>\n",
       "    </tr>\n",
       "    <tr>\n",
       "      <th>137465</th>\n",
       "      <td>961392021</td>\n",
       "      <td>NON-CRIMINAL</td>\n",
       "      <td>CASE CLOSURE</td>\n",
       "      <td>Wednesday</td>\n",
       "      <td>02/24/2016</td>\n",
       "      <td>00:01</td>\n",
       "      <td>SOUTHERN</td>\n",
       "      <td>EXCEPTIONAL CLEARANCE</td>\n",
       "      <td>800 Block of BRYANT ST</td>\n",
       "      <td>-122.403405</td>\n",
       "      <td>37.775421</td>\n",
       "      <td>(37.775420706711, -122.403404791479)</td>\n",
       "      <td>96139202175030</td>\n",
       "    </tr>\n",
       "    <tr>\n",
       "      <th>137466</th>\n",
       "      <td>981021761</td>\n",
       "      <td>WARRANTS</td>\n",
       "      <td>WARRANT ARREST</td>\n",
       "      <td>Wednesday</td>\n",
       "      <td>09/30/2015</td>\n",
       "      <td>23:53</td>\n",
       "      <td>NORTHERN</td>\n",
       "      <td>ARREST, BOOKED</td>\n",
       "      <td>OLIVE ST / VANNESS AV</td>\n",
       "      <td>-122.421097</td>\n",
       "      <td>37.784294</td>\n",
       "      <td>(37.7842937802977, -122.421096796936)</td>\n",
       "      <td>98102176163010</td>\n",
       "    </tr>\n",
       "  </tbody>\n",
       "</table>\n",
       "</div>"
      ],
      "text/plain": [
       "        IncidntNum        Category                       Descript  DayOfWeek  \\\n",
       "137462    70477746         ASSAULT  AGGRAVATED ASSAULT WITH A GUN  Wednesday   \n",
       "137463    81076498  MISSING PERSON                   FOUND PERSON     Monday   \n",
       "137464   961392021  MISSING PERSON                   FOUND PERSON  Wednesday   \n",
       "137465   961392021    NON-CRIMINAL                   CASE CLOSURE  Wednesday   \n",
       "137466   981021761        WARRANTS                 WARRANT ARREST  Wednesday   \n",
       "\n",
       "              Date   Time PdDistrict             Resolution  \\\n",
       "137462  06/10/2015  11:00   SOUTHERN                   NONE   \n",
       "137463  03/28/2016  14:00    TARAVAL                   NONE   \n",
       "137464  02/24/2016  00:01   SOUTHERN  EXCEPTIONAL CLEARANCE   \n",
       "137465  02/24/2016  00:01   SOUTHERN  EXCEPTIONAL CLEARANCE   \n",
       "137466  09/30/2015  23:53   NORTHERN         ARREST, BOOKED   \n",
       "\n",
       "                       Address           X          Y  \\\n",
       "137462    5TH ST / HARRISON ST -122.401846  37.779032   \n",
       "137463   2300 Block of 24TH AV -122.481183  37.743727   \n",
       "137464  800 Block of BRYANT ST -122.403405  37.775421   \n",
       "137465  800 Block of BRYANT ST -122.403405  37.775421   \n",
       "137466   OLIVE ST / VANNESS AV -122.421097  37.784294   \n",
       "\n",
       "                                     Location            PdId  \n",
       "137462  (37.7790324136251, -122.401846367522)   7047774604011  \n",
       "137463   (37.7437268170337, -122.48118317163)   8107649875000  \n",
       "137464   (37.775420706711, -122.403404791479)  96139202175000  \n",
       "137465   (37.775420706711, -122.403404791479)  96139202175030  \n",
       "137466  (37.7842937802977, -122.421096796936)  98102176163010  "
      ]
     },
     "execution_count": 40,
     "metadata": {},
     "output_type": "execute_result"
    }
   ],
   "source": [
    "incidents = pd.read_csv('../SF_Crime_Project/data/SFPD_Incidents.csv', sep=',')\n",
    "incidents.tail()"
   ]
  },
  {
   "cell_type": "code",
   "execution_count": 41,
   "metadata": {
    "collapsed": false
   },
   "outputs": [
    {
     "data": {
      "text/plain": [
       "137462   -122.401846\n",
       "Name: X, dtype: float64"
      ]
     },
     "execution_count": 41,
     "metadata": {},
     "output_type": "execute_result"
    }
   ],
   "source": [
    "incidents[incidents['IncidntNum']==70477746].X"
   ]
  },
  {
   "cell_type": "code",
   "execution_count": 42,
   "metadata": {
    "collapsed": false
   },
   "outputs": [
    {
     "data": {
      "text/plain": [
       "(137467, 13)"
      ]
     },
     "execution_count": 42,
     "metadata": {},
     "output_type": "execute_result"
    }
   ],
   "source": [
    "incidents.shape"
   ]
  },
  {
   "cell_type": "code",
   "execution_count": 43,
   "metadata": {
    "collapsed": false
   },
   "outputs": [
    {
     "data": {
      "text/plain": [
       "IncidntNum    0\n",
       "Category      0\n",
       "Descript      0\n",
       "DayOfWeek     0\n",
       "Date          0\n",
       "Time          0\n",
       "PdDistrict    1\n",
       "Resolution    0\n",
       "Address       0\n",
       "X             0\n",
       "Y             0\n",
       "Location      0\n",
       "PdId          0\n",
       "dtype: int64"
      ]
     },
     "execution_count": 43,
     "metadata": {},
     "output_type": "execute_result"
    }
   ],
   "source": [
    "incidents.isnull().sum()"
   ]
  },
  {
   "cell_type": "code",
   "execution_count": 44,
   "metadata": {
    "collapsed": false
   },
   "outputs": [
    {
     "data": {
      "text/plain": [
       "Index([u'IncidntNum', u'Category', u'Descript', u'DayOfWeek', u'Date', u'Time',\n",
       "       u'PdDistrict', u'Resolution', u'Address', u'X', u'Y', u'Location',\n",
       "       u'PdId'],\n",
       "      dtype='object')"
      ]
     },
     "execution_count": 44,
     "metadata": {},
     "output_type": "execute_result"
    }
   ],
   "source": [
    "# list all columns (for reference)\n",
    "incidents.columns"
   ]
  },
  {
   "cell_type": "code",
   "execution_count": 45,
   "metadata": {
    "collapsed": false
   },
   "outputs": [
    {
     "data": {
      "text/plain": [
       "LARCENY/THEFT                  36065\n",
       "OTHER OFFENSES                 18041\n",
       "NON-CRIMINAL                   16742\n",
       "ASSAULT                        11972\n",
       "VANDALISM                       7137\n",
       "VEHICLE THEFT                   6711\n",
       "WARRANTS                        5945\n",
       "BURGLARY                        5355\n",
       "SUSPICIOUS OCC                  4954\n",
       "DRUG/NARCOTIC                   4085\n",
       "MISSING PERSON                  3984\n",
       "ROBBERY                         3091\n",
       "FRAUD                           2535\n",
       "SECONDARY CODES                 1717\n",
       "WEAPON LAWS                     1442\n",
       "TRESPASS                        1380\n",
       "STOLEN PROPERTY                  860\n",
       "SEX OFFENSES, FORCIBLE           844\n",
       "RECOVERED VEHICLE                826\n",
       "FORGERY/COUNTERFEITING           615\n",
       "DISORDERLY CONDUCT               550\n",
       "PROSTITUTION                     493\n",
       "DRUNKENNESS                      481\n",
       "DRIVING UNDER THE INFLUENCE      364\n",
       "ARSON                            263\n",
       "KIDNAPPING                       229\n",
       "LIQUOR LAWS                      154\n",
       "EMBEZZLEMENT                     132\n",
       "RUNAWAY                          129\n",
       "BRIBERY                           74\n",
       "SUICIDE                           74\n",
       "FAMILY OFFENSES                   57\n",
       "EXTORTION                         48\n",
       "LOITERING                         39\n",
       "BAD CHECKS                        37\n",
       "GAMBLING                          20\n",
       "SEX OFFENSES, NON FORCIBLE        17\n",
       "PORNOGRAPHY/OBSCENE MAT            4\n",
       "TREA                               1\n",
       "Name: Category, dtype: int64"
      ]
     },
     "execution_count": 45,
     "metadata": {},
     "output_type": "execute_result"
    }
   ],
   "source": [
    "incidents['Category'].value_counts()"
   ]
  },
  {
   "cell_type": "code",
   "execution_count": 46,
   "metadata": {
    "collapsed": false
   },
   "outputs": [
    {
     "data": {
      "text/plain": [
       "<matplotlib.axes._subplots.AxesSubplot at 0x115d00890>"
      ]
     },
     "execution_count": 46,
     "metadata": {},
     "output_type": "execute_result"
    },
    {
     "data": {
      "image/png": "[encoded data removed]",
      "text/plain": [
       "<matplotlib.figure.Figure at 0x115e83d10>"
      ]
     },
     "metadata": {},
     "output_type": "display_data"
    }
   ],
   "source": [
    "incidents['PdDistrict'].value_counts().plot(kind='bar', color= 'yellow')"
   ]
  },
  {
   "cell_type": "code",
   "execution_count": 47,
   "metadata": {
    "collapsed": false
   },
   "outputs": [
    {
     "data": {
      "text/plain": [
       "PdDistrict  DayOfWeek\n",
       "BAYVIEW     Monday       1961\n",
       "            Thursday     1945\n",
       "            Friday       1939\n",
       "            Tuesday      1872\n",
       "            Wednesday    1838\n",
       "            Saturday     1780\n",
       "            Sunday       1719\n",
       "CENTRAL     Saturday     2639\n",
       "            Friday       2500\n",
       "            Wednesday    2227\n",
       "            Sunday       2215\n",
       "            Thursday     2198\n",
       "            Monday       2179\n",
       "            Tuesday      2143\n",
       "INGLESIDE   Friday       1738\n",
       "            Tuesday      1673\n",
       "            Wednesday    1654\n",
       "            Thursday     1636\n",
       "            Saturday     1584\n",
       "            Monday       1544\n",
       "            Sunday       1530\n",
       "MISSION     Friday       2393\n",
       "            Wednesday    2389\n",
       "            Sunday       2366\n",
       "            Thursday     2312\n",
       "            Saturday     2302\n",
       "            Tuesday      2299\n",
       "            Monday       2185\n",
       "NORTHERN    Saturday     2786\n",
       "            Friday       2766\n",
       "                         ... \n",
       "PARK        Thursday     1189\n",
       "            Sunday       1115\n",
       "RICHMOND    Friday       1258\n",
       "            Wednesday    1189\n",
       "            Thursday     1164\n",
       "            Saturday     1150\n",
       "            Monday       1085\n",
       "            Tuesday      1069\n",
       "            Sunday       1033\n",
       "SOUTHERN    Friday       4178\n",
       "            Saturday     4074\n",
       "            Thursday     3803\n",
       "            Wednesday    3769\n",
       "            Tuesday      3595\n",
       "            Monday       3571\n",
       "            Sunday       3500\n",
       "TARAVAL     Tuesday      1584\n",
       "            Thursday     1565\n",
       "            Wednesday    1517\n",
       "            Friday       1514\n",
       "            Monday       1474\n",
       "            Saturday     1404\n",
       "            Sunday       1355\n",
       "TENDERLOIN  Tuesday      1460\n",
       "            Wednesday    1400\n",
       "            Friday       1381\n",
       "            Thursday     1327\n",
       "            Monday       1278\n",
       "            Sunday       1240\n",
       "            Saturday     1226\n",
       "dtype: int64"
      ]
     },
     "execution_count": 47,
     "metadata": {},
     "output_type": "execute_result"
    }
   ],
   "source": [
    "incidents.groupby('PdDistrict')['DayOfWeek'].value_counts()"
   ]
  },
  {
   "cell_type": "code",
   "execution_count": 48,
   "metadata": {
    "collapsed": false
   },
   "outputs": [
    {
     "data": {
      "text/plain": [
       "<matplotlib.axes._subplots.AxesSubplot at 0x114cc1850>"
      ]
     },
     "execution_count": 48,
     "metadata": {},
     "output_type": "execute_result"
    },
    {
     "data": {
      "image/png": "[encoded data removed]",
      "text/plain": [
       "<matplotlib.figure.Figure at 0x11611aa10>"
      ]
     },
     "metadata": {},
     "output_type": "display_data"
    }
   ],
   "source": [
    "#This one does not tell me much\n",
    "incidents['DayOfWeek'].value_counts().plot(kind='bar', color= 'blue')"
   ]
  },
  {
   "cell_type": "code",
   "execution_count": 49,
   "metadata": {
    "collapsed": false,
    "scrolled": true
   },
   "outputs": [
    {
     "data": {
      "text/plain": [
       "<matplotlib.axes._subplots.AxesSubplot at 0x117de86d0>"
      ]
     },
     "execution_count": 49,
     "metadata": {},
     "output_type": "execute_result"
    },
    {
     "data": {
      "image/png": "[encoded data removed]",
      "text/plain": [
       "<matplotlib.figure.Figure at 0x1263b3e90>"
      ]
     },
     "metadata": {},
     "output_type": "display_data"
    }
   ],
   "source": [
    "#Most of the crime is unresolved\n",
    "incidents['Resolution'].value_counts().plot(kind='bar', color= 'red')"
   ]
  },
  {
   "cell_type": "code",
   "execution_count": 50,
   "metadata": {
    "collapsed": false,
    "scrolled": true
   },
   "outputs": [
    {
     "data": {
      "text/html": [
       "<div>\n",
       "<table border=\"1\" class=\"dataframe\">\n",
       "  <thead>\n",
       "    <tr style=\"text-align: right;\">\n",
       "      <th></th>\n",
       "      <th>IncidntNum</th>\n",
       "      <th>Category</th>\n",
       "      <th>Descript</th>\n",
       "      <th>DayOfWeek</th>\n",
       "      <th>Date</th>\n",
       "      <th>Time</th>\n",
       "      <th>PdDistrict</th>\n",
       "      <th>Resolution</th>\n",
       "      <th>Address</th>\n",
       "      <th>X</th>\n",
       "      <th>Y</th>\n",
       "      <th>Location</th>\n",
       "      <th>PdId</th>\n",
       "      <th>Year</th>\n",
       "      <th>Month</th>\n",
       "    </tr>\n",
       "    <tr>\n",
       "      <th>Date</th>\n",
       "      <th></th>\n",
       "      <th></th>\n",
       "      <th></th>\n",
       "      <th></th>\n",
       "      <th></th>\n",
       "      <th></th>\n",
       "      <th></th>\n",
       "      <th></th>\n",
       "      <th></th>\n",
       "      <th></th>\n",
       "      <th></th>\n",
       "      <th></th>\n",
       "      <th></th>\n",
       "      <th></th>\n",
       "      <th></th>\n",
       "    </tr>\n",
       "  </thead>\n",
       "  <tbody>\n",
       "    <tr>\n",
       "      <th>2015-07-09</th>\n",
       "      <td>110239385</td>\n",
       "      <td>SEX OFFENSES, FORCIBLE</td>\n",
       "      <td>CHILD ABUSE SEXUAL</td>\n",
       "      <td>Thursday</td>\n",
       "      <td>2015-07-09</td>\n",
       "      <td>13:50</td>\n",
       "      <td>NORTHERN</td>\n",
       "      <td>ARREST, BOOKED</td>\n",
       "      <td>400 Block of MCALLISTER ST</td>\n",
       "      <td>-122.419448</td>\n",
       "      <td>37.780209</td>\n",
       "      <td>(37.7802091894281, -122.419448185224)</td>\n",
       "      <td>11023938514015</td>\n",
       "      <td>2015</td>\n",
       "      <td>7</td>\n",
       "    </tr>\n",
       "    <tr>\n",
       "      <th>2015-07-09</th>\n",
       "      <td>110239385</td>\n",
       "      <td>ASSAULT</td>\n",
       "      <td>CHILD ABUSE (PHYSICAL)</td>\n",
       "      <td>Thursday</td>\n",
       "      <td>2015-07-09</td>\n",
       "      <td>13:50</td>\n",
       "      <td>NORTHERN</td>\n",
       "      <td>ARREST, BOOKED</td>\n",
       "      <td>400 Block of MCALLISTER ST</td>\n",
       "      <td>-122.419448</td>\n",
       "      <td>37.780209</td>\n",
       "      <td>(37.7802091894281, -122.419448185224)</td>\n",
       "      <td>11023938515015</td>\n",
       "      <td>2015</td>\n",
       "      <td>7</td>\n",
       "    </tr>\n",
       "    <tr>\n",
       "      <th>2015-07-09</th>\n",
       "      <td>110239385</td>\n",
       "      <td>WARRANTS</td>\n",
       "      <td>WARRANT ARREST</td>\n",
       "      <td>Thursday</td>\n",
       "      <td>2015-07-09</td>\n",
       "      <td>13:50</td>\n",
       "      <td>NORTHERN</td>\n",
       "      <td>ARREST, BOOKED</td>\n",
       "      <td>400 Block of MCALLISTER ST</td>\n",
       "      <td>-122.419448</td>\n",
       "      <td>37.780209</td>\n",
       "      <td>(37.7802091894281, -122.419448185224)</td>\n",
       "      <td>11023938563010</td>\n",
       "      <td>2015</td>\n",
       "      <td>7</td>\n",
       "    </tr>\n",
       "    <tr>\n",
       "      <th>2015-07-09</th>\n",
       "      <td>110239385</td>\n",
       "      <td>NON-CRIMINAL</td>\n",
       "      <td>CASE CLOSURE</td>\n",
       "      <td>Thursday</td>\n",
       "      <td>2015-07-09</td>\n",
       "      <td>13:50</td>\n",
       "      <td>NORTHERN</td>\n",
       "      <td>ARREST, BOOKED</td>\n",
       "      <td>400 Block of MCALLISTER ST</td>\n",
       "      <td>-122.419448</td>\n",
       "      <td>37.780209</td>\n",
       "      <td>(37.7802091894281, -122.419448185224)</td>\n",
       "      <td>11023938575030</td>\n",
       "      <td>2015</td>\n",
       "      <td>7</td>\n",
       "    </tr>\n",
       "    <tr>\n",
       "      <th>2015-10-02</th>\n",
       "      <td>111008842</td>\n",
       "      <td>ROBBERY</td>\n",
       "      <td>ATTEMPTED ROBBERY WITH BODILY FORCE</td>\n",
       "      <td>Friday</td>\n",
       "      <td>2015-10-02</td>\n",
       "      <td>22:21</td>\n",
       "      <td>TARAVAL</td>\n",
       "      <td>ARREST, BOOKED</td>\n",
       "      <td>ALEMANY BL / KEMPTON AV</td>\n",
       "      <td>-122.468426</td>\n",
       "      <td>37.710955</td>\n",
       "      <td>(37.7109549221546, -122.468425552228)</td>\n",
       "      <td>11100884203474</td>\n",
       "      <td>2015</td>\n",
       "      <td>10</td>\n",
       "    </tr>\n",
       "  </tbody>\n",
       "</table>\n",
       "</div>"
      ],
      "text/plain": [
       "            IncidntNum                Category  \\\n",
       "Date                                             \n",
       "2015-07-09   110239385  SEX OFFENSES, FORCIBLE   \n",
       "2015-07-09   110239385                 ASSAULT   \n",
       "2015-07-09   110239385                WARRANTS   \n",
       "2015-07-09   110239385            NON-CRIMINAL   \n",
       "2015-10-02   111008842                 ROBBERY   \n",
       "\n",
       "                                       Descript DayOfWeek       Date   Time  \\\n",
       "Date                                                                          \n",
       "2015-07-09                   CHILD ABUSE SEXUAL  Thursday 2015-07-09  13:50   \n",
       "2015-07-09               CHILD ABUSE (PHYSICAL)  Thursday 2015-07-09  13:50   \n",
       "2015-07-09                       WARRANT ARREST  Thursday 2015-07-09  13:50   \n",
       "2015-07-09                         CASE CLOSURE  Thursday 2015-07-09  13:50   \n",
       "2015-10-02  ATTEMPTED ROBBERY WITH BODILY FORCE    Friday 2015-10-02  22:21   \n",
       "\n",
       "           PdDistrict      Resolution                     Address           X  \\\n",
       "Date                                                                            \n",
       "2015-07-09   NORTHERN  ARREST, BOOKED  400 Block of MCALLISTER ST -122.419448   \n",
       "2015-07-09   NORTHERN  ARREST, BOOKED  400 Block of MCALLISTER ST -122.419448   \n",
       "2015-07-09   NORTHERN  ARREST, BOOKED  400 Block of MCALLISTER ST -122.419448   \n",
       "2015-07-09   NORTHERN  ARREST, BOOKED  400 Block of MCALLISTER ST -122.419448   \n",
       "2015-10-02    TARAVAL  ARREST, BOOKED     ALEMANY BL / KEMPTON AV -122.468426   \n",
       "\n",
       "                    Y                               Location            PdId  \\\n",
       "Date                                                                           \n",
       "2015-07-09  37.780209  (37.7802091894281, -122.419448185224)  11023938514015   \n",
       "2015-07-09  37.780209  (37.7802091894281, -122.419448185224)  11023938515015   \n",
       "2015-07-09  37.780209  (37.7802091894281, -122.419448185224)  11023938563010   \n",
       "2015-07-09  37.780209  (37.7802091894281, -122.419448185224)  11023938575030   \n",
       "2015-10-02  37.710955  (37.7109549221546, -122.468425552228)  11100884203474   \n",
       "\n",
       "            Year  Month  \n",
       "Date                     \n",
       "2015-07-09  2015      7  \n",
       "2015-07-09  2015      7  \n",
       "2015-07-09  2015      7  \n",
       "2015-07-09  2015      7  \n",
       "2015-10-02  2015     10  "
      ]
     },
     "execution_count": 50,
     "metadata": {},
     "output_type": "execute_result"
    }
   ],
   "source": [
    "incidents['Date'] = pd.to_datetime(incidents['Date'])\n",
    "# incidents.set_index('Date', inplace=True)\n",
    "incidents.index = incidents['Date']\n",
    "\n",
    "incidents['Year'] = incidents.index.year\n",
    "incidents['Month'] = incidents.index.month\n",
    "incidents.head()"
   ]
  },
  {
   "cell_type": "code",
   "execution_count": 51,
   "metadata": {
    "collapsed": false
   },
   "outputs": [
    {
     "data": {
      "text/html": [
       "<div>\n",
       "<table border=\"1\" class=\"dataframe\">\n",
       "  <thead>\n",
       "    <tr style=\"text-align: right;\">\n",
       "      <th></th>\n",
       "      <th>IncidntNum</th>\n",
       "      <th>Category</th>\n",
       "      <th>Descript</th>\n",
       "      <th>DayOfWeek</th>\n",
       "      <th>Date</th>\n",
       "      <th>Time</th>\n",
       "      <th>PdDistrict</th>\n",
       "      <th>Resolution</th>\n",
       "      <th>Address</th>\n",
       "      <th>X</th>\n",
       "      <th>Y</th>\n",
       "      <th>Location</th>\n",
       "      <th>PdId</th>\n",
       "      <th>Year</th>\n",
       "      <th>Month</th>\n",
       "    </tr>\n",
       "    <tr>\n",
       "      <th>Date</th>\n",
       "      <th></th>\n",
       "      <th></th>\n",
       "      <th></th>\n",
       "      <th></th>\n",
       "      <th></th>\n",
       "      <th></th>\n",
       "      <th></th>\n",
       "      <th></th>\n",
       "      <th></th>\n",
       "      <th></th>\n",
       "      <th></th>\n",
       "      <th></th>\n",
       "      <th></th>\n",
       "      <th></th>\n",
       "      <th></th>\n",
       "    </tr>\n",
       "  </thead>\n",
       "  <tbody>\n",
       "    <tr>\n",
       "      <th>2015-06-23</th>\n",
       "      <td>150544984</td>\n",
       "      <td>OTHER OFFENSES</td>\n",
       "      <td>DRIVERS LICENSE, SUSPENDED OR REVOKED</td>\n",
       "      <td>Tuesday</td>\n",
       "      <td>2015-06-23</td>\n",
       "      <td>21:30</td>\n",
       "      <td>BAYVIEW</td>\n",
       "      <td>NONE</td>\n",
       "      <td>WILLIAMS AV / 3RD ST</td>\n",
       "      <td>-122.392625</td>\n",
       "      <td>37.729280</td>\n",
       "      <td>(37.7292804432175, -122.392625489263)</td>\n",
       "      <td>15054498465016</td>\n",
       "      <td>2015</td>\n",
       "      <td>6</td>\n",
       "    </tr>\n",
       "    <tr>\n",
       "      <th>2015-06-23</th>\n",
       "      <td>150545073</td>\n",
       "      <td>SECONDARY CODES</td>\n",
       "      <td>DOMESTIC VIOLENCE</td>\n",
       "      <td>Tuesday</td>\n",
       "      <td>2015-06-23</td>\n",
       "      <td>20:47</td>\n",
       "      <td>BAYVIEW</td>\n",
       "      <td>NONE</td>\n",
       "      <td>1000 Block of CONNECTICUT ST</td>\n",
       "      <td>-122.397202</td>\n",
       "      <td>37.753535</td>\n",
       "      <td>(37.7535351242762, -122.397201937993)</td>\n",
       "      <td>15054507315200</td>\n",
       "      <td>2015</td>\n",
       "      <td>6</td>\n",
       "    </tr>\n",
       "    <tr>\n",
       "      <th>2015-06-23</th>\n",
       "      <td>150545073</td>\n",
       "      <td>ASSAULT</td>\n",
       "      <td>THREATS AGAINST LIFE</td>\n",
       "      <td>Tuesday</td>\n",
       "      <td>2015-06-23</td>\n",
       "      <td>20:47</td>\n",
       "      <td>BAYVIEW</td>\n",
       "      <td>NONE</td>\n",
       "      <td>1000 Block of CONNECTICUT ST</td>\n",
       "      <td>-122.397202</td>\n",
       "      <td>37.753535</td>\n",
       "      <td>(37.7535351242762, -122.397201937993)</td>\n",
       "      <td>15054507319057</td>\n",
       "      <td>2015</td>\n",
       "      <td>6</td>\n",
       "    </tr>\n",
       "    <tr>\n",
       "      <th>2015-06-23</th>\n",
       "      <td>150545443</td>\n",
       "      <td>DRUG/NARCOTIC</td>\n",
       "      <td>POSSESSION OF METH-AMPHETAMINE</td>\n",
       "      <td>Tuesday</td>\n",
       "      <td>2015-06-23</td>\n",
       "      <td>00:01</td>\n",
       "      <td>SOUTHERN</td>\n",
       "      <td>ARREST, BOOKED</td>\n",
       "      <td>6TH ST / MARKET ST</td>\n",
       "      <td>-122.410294</td>\n",
       "      <td>37.782231</td>\n",
       "      <td>(37.7822305870036, -122.41029351969)</td>\n",
       "      <td>15054544316650</td>\n",
       "      <td>2015</td>\n",
       "      <td>6</td>\n",
       "    </tr>\n",
       "    <tr>\n",
       "      <th>2015-06-23</th>\n",
       "      <td>150545443</td>\n",
       "      <td>LARCENY/THEFT</td>\n",
       "      <td>LOST PROPERTY, PETTY THEFT</td>\n",
       "      <td>Tuesday</td>\n",
       "      <td>2015-06-23</td>\n",
       "      <td>00:01</td>\n",
       "      <td>SOUTHERN</td>\n",
       "      <td>ARREST, BOOKED</td>\n",
       "      <td>6TH ST / MARKET ST</td>\n",
       "      <td>-122.410294</td>\n",
       "      <td>37.782231</td>\n",
       "      <td>(37.7822305870036, -122.41029351969)</td>\n",
       "      <td>15054544327090</td>\n",
       "      <td>2015</td>\n",
       "      <td>6</td>\n",
       "    </tr>\n",
       "  </tbody>\n",
       "</table>\n",
       "</div>"
      ],
      "text/plain": [
       "            IncidntNum         Category  \\\n",
       "Date                                      \n",
       "2015-06-23   150544984   OTHER OFFENSES   \n",
       "2015-06-23   150545073  SECONDARY CODES   \n",
       "2015-06-23   150545073          ASSAULT   \n",
       "2015-06-23   150545443    DRUG/NARCOTIC   \n",
       "2015-06-23   150545443    LARCENY/THEFT   \n",
       "\n",
       "                                         Descript DayOfWeek       Date   Time  \\\n",
       "Date                                                                            \n",
       "2015-06-23  DRIVERS LICENSE, SUSPENDED OR REVOKED   Tuesday 2015-06-23  21:30   \n",
       "2015-06-23                      DOMESTIC VIOLENCE   Tuesday 2015-06-23  20:47   \n",
       "2015-06-23                   THREATS AGAINST LIFE   Tuesday 2015-06-23  20:47   \n",
       "2015-06-23         POSSESSION OF METH-AMPHETAMINE   Tuesday 2015-06-23  00:01   \n",
       "2015-06-23             LOST PROPERTY, PETTY THEFT   Tuesday 2015-06-23  00:01   \n",
       "\n",
       "           PdDistrict      Resolution                       Address  \\\n",
       "Date                                                                  \n",
       "2015-06-23    BAYVIEW            NONE          WILLIAMS AV / 3RD ST   \n",
       "2015-06-23    BAYVIEW            NONE  1000 Block of CONNECTICUT ST   \n",
       "2015-06-23    BAYVIEW            NONE  1000 Block of CONNECTICUT ST   \n",
       "2015-06-23   SOUTHERN  ARREST, BOOKED            6TH ST / MARKET ST   \n",
       "2015-06-23   SOUTHERN  ARREST, BOOKED            6TH ST / MARKET ST   \n",
       "\n",
       "                     X          Y                               Location  \\\n",
       "Date                                                                       \n",
       "2015-06-23 -122.392625  37.729280  (37.7292804432175, -122.392625489263)   \n",
       "2015-06-23 -122.397202  37.753535  (37.7535351242762, -122.397201937993)   \n",
       "2015-06-23 -122.397202  37.753535  (37.7535351242762, -122.397201937993)   \n",
       "2015-06-23 -122.410294  37.782231   (37.7822305870036, -122.41029351969)   \n",
       "2015-06-23 -122.410294  37.782231   (37.7822305870036, -122.41029351969)   \n",
       "\n",
       "                      PdId  Year  Month  \n",
       "Date                                     \n",
       "2015-06-23  15054498465016  2015      6  \n",
       "2015-06-23  15054507315200  2015      6  \n",
       "2015-06-23  15054507319057  2015      6  \n",
       "2015-06-23  15054544316650  2015      6  \n",
       "2015-06-23  15054544327090  2015      6  "
      ]
     },
     "execution_count": 51,
     "metadata": {},
     "output_type": "execute_result"
    }
   ],
   "source": [
    "incidents['2015-06-23'].head()"
   ]
  },
  {
   "cell_type": "code",
   "execution_count": 52,
   "metadata": {
    "collapsed": false
   },
   "outputs": [
    {
     "data": {
      "text/plain": [
       "<matplotlib.axes._subplots.AxesSubplot at 0x114d08050>"
      ]
     },
     "execution_count": 52,
     "metadata": {},
     "output_type": "execute_result"
    },
    {
     "data": {
      "image/png": "[encoded data removed]",
      "text/plain": [
       "<matplotlib.figure.Figure at 0x117baddd0>"
      ]
     },
     "metadata": {},
     "output_type": "display_data"
    }
   ],
   "source": [
    "# incidents.Descript.unique()\n",
    "incidents[incidents.Descript=='STOLEN AUTOMOBILE'].resample('1D', how='count')['IncidntNum'].plot()#in blue\n",
    "incidents[incidents.Descript=='ASSAULT'].resample('1D', how='count')['IncidntNum'].plot() #in red\n",
    "incidents[incidents.Descript=='DOMESTIC VIOLENCE'].resample('1D', how='count')['IncidntNum'].plot() #in green\n"
   ]
  },
  {
   "cell_type": "code",
   "execution_count": 53,
   "metadata": {
    "collapsed": false,
    "scrolled": true
   },
   "outputs": [
    {
     "data": {
      "text/html": [
       "<div>\n",
       "<table border=\"1\" class=\"dataframe\">\n",
       "  <thead>\n",
       "    <tr style=\"text-align: right;\">\n",
       "      <th></th>\n",
       "      <th>DOW_Monday</th>\n",
       "      <th>DOW_Saturday</th>\n",
       "      <th>DOW_Sunday</th>\n",
       "      <th>DOW_Thursday</th>\n",
       "      <th>DOW_Tuesday</th>\n",
       "      <th>DOW_Wednesday</th>\n",
       "      <th>C_ASSAULT</th>\n",
       "      <th>C_BAD CHECKS</th>\n",
       "      <th>C_BRIBERY</th>\n",
       "      <th>C_BURGLARY</th>\n",
       "      <th>...</th>\n",
       "      <th>Descript_WILLFUL CRUELTY TO CHILD</th>\n",
       "      <th>PdDistrict_CENTRAL</th>\n",
       "      <th>PdDistrict_INGLESIDE</th>\n",
       "      <th>PdDistrict_MISSION</th>\n",
       "      <th>PdDistrict_NORTHERN</th>\n",
       "      <th>PdDistrict_PARK</th>\n",
       "      <th>PdDistrict_RICHMOND</th>\n",
       "      <th>PdDistrict_SOUTHERN</th>\n",
       "      <th>PdDistrict_TARAVAL</th>\n",
       "      <th>PdDistrict_TENDERLOIN</th>\n",
       "    </tr>\n",
       "    <tr>\n",
       "      <th>Date</th>\n",
       "      <th></th>\n",
       "      <th></th>\n",
       "      <th></th>\n",
       "      <th></th>\n",
       "      <th></th>\n",
       "      <th></th>\n",
       "      <th></th>\n",
       "      <th></th>\n",
       "      <th></th>\n",
       "      <th></th>\n",
       "      <th></th>\n",
       "      <th></th>\n",
       "      <th></th>\n",
       "      <th></th>\n",
       "      <th></th>\n",
       "      <th></th>\n",
       "      <th></th>\n",
       "      <th></th>\n",
       "      <th></th>\n",
       "      <th></th>\n",
       "      <th></th>\n",
       "    </tr>\n",
       "  </thead>\n",
       "  <tbody>\n",
       "    <tr>\n",
       "      <th>2015-07-09</th>\n",
       "      <td>0</td>\n",
       "      <td>0</td>\n",
       "      <td>0</td>\n",
       "      <td>1</td>\n",
       "      <td>0</td>\n",
       "      <td>0</td>\n",
       "      <td>0</td>\n",
       "      <td>0</td>\n",
       "      <td>0</td>\n",
       "      <td>0</td>\n",
       "      <td>...</td>\n",
       "      <td>0</td>\n",
       "      <td>0</td>\n",
       "      <td>0</td>\n",
       "      <td>0</td>\n",
       "      <td>1</td>\n",
       "      <td>0</td>\n",
       "      <td>0</td>\n",
       "      <td>0</td>\n",
       "      <td>0</td>\n",
       "      <td>0</td>\n",
       "    </tr>\n",
       "    <tr>\n",
       "      <th>2015-07-09</th>\n",
       "      <td>0</td>\n",
       "      <td>0</td>\n",
       "      <td>0</td>\n",
       "      <td>1</td>\n",
       "      <td>0</td>\n",
       "      <td>0</td>\n",
       "      <td>1</td>\n",
       "      <td>0</td>\n",
       "      <td>0</td>\n",
       "      <td>0</td>\n",
       "      <td>...</td>\n",
       "      <td>0</td>\n",
       "      <td>0</td>\n",
       "      <td>0</td>\n",
       "      <td>0</td>\n",
       "      <td>1</td>\n",
       "      <td>0</td>\n",
       "      <td>0</td>\n",
       "      <td>0</td>\n",
       "      <td>0</td>\n",
       "      <td>0</td>\n",
       "    </tr>\n",
       "    <tr>\n",
       "      <th>2015-07-09</th>\n",
       "      <td>0</td>\n",
       "      <td>0</td>\n",
       "      <td>0</td>\n",
       "      <td>1</td>\n",
       "      <td>0</td>\n",
       "      <td>0</td>\n",
       "      <td>0</td>\n",
       "      <td>0</td>\n",
       "      <td>0</td>\n",
       "      <td>0</td>\n",
       "      <td>...</td>\n",
       "      <td>0</td>\n",
       "      <td>0</td>\n",
       "      <td>0</td>\n",
       "      <td>0</td>\n",
       "      <td>1</td>\n",
       "      <td>0</td>\n",
       "      <td>0</td>\n",
       "      <td>0</td>\n",
       "      <td>0</td>\n",
       "      <td>0</td>\n",
       "    </tr>\n",
       "    <tr>\n",
       "      <th>2015-07-09</th>\n",
       "      <td>0</td>\n",
       "      <td>0</td>\n",
       "      <td>0</td>\n",
       "      <td>1</td>\n",
       "      <td>0</td>\n",
       "      <td>0</td>\n",
       "      <td>0</td>\n",
       "      <td>0</td>\n",
       "      <td>0</td>\n",
       "      <td>0</td>\n",
       "      <td>...</td>\n",
       "      <td>0</td>\n",
       "      <td>0</td>\n",
       "      <td>0</td>\n",
       "      <td>0</td>\n",
       "      <td>1</td>\n",
       "      <td>0</td>\n",
       "      <td>0</td>\n",
       "      <td>0</td>\n",
       "      <td>0</td>\n",
       "      <td>0</td>\n",
       "    </tr>\n",
       "    <tr>\n",
       "      <th>2015-10-02</th>\n",
       "      <td>0</td>\n",
       "      <td>0</td>\n",
       "      <td>0</td>\n",
       "      <td>0</td>\n",
       "      <td>0</td>\n",
       "      <td>0</td>\n",
       "      <td>0</td>\n",
       "      <td>0</td>\n",
       "      <td>0</td>\n",
       "      <td>0</td>\n",
       "      <td>...</td>\n",
       "      <td>0</td>\n",
       "      <td>0</td>\n",
       "      <td>0</td>\n",
       "      <td>0</td>\n",
       "      <td>0</td>\n",
       "      <td>0</td>\n",
       "      <td>0</td>\n",
       "      <td>0</td>\n",
       "      <td>1</td>\n",
       "      <td>0</td>\n",
       "    </tr>\n",
       "  </tbody>\n",
       "</table>\n",
       "<p>5 rows × 770 columns</p>\n",
       "</div>"
      ],
      "text/plain": [
       "            DOW_Monday  DOW_Saturday  DOW_Sunday  DOW_Thursday  DOW_Tuesday  \\\n",
       "Date                                                                          \n",
       "2015-07-09           0             0           0             1            0   \n",
       "2015-07-09           0             0           0             1            0   \n",
       "2015-07-09           0             0           0             1            0   \n",
       "2015-07-09           0             0           0             1            0   \n",
       "2015-10-02           0             0           0             0            0   \n",
       "\n",
       "            DOW_Wednesday  C_ASSAULT  C_BAD CHECKS  C_BRIBERY  C_BURGLARY  \\\n",
       "Date                                                                        \n",
       "2015-07-09              0          0             0          0           0   \n",
       "2015-07-09              0          1             0          0           0   \n",
       "2015-07-09              0          0             0          0           0   \n",
       "2015-07-09              0          0             0          0           0   \n",
       "2015-10-02              0          0             0          0           0   \n",
       "\n",
       "                    ...            Descript_WILLFUL CRUELTY TO CHILD  \\\n",
       "Date                ...                                                \n",
       "2015-07-09          ...                                            0   \n",
       "2015-07-09          ...                                            0   \n",
       "2015-07-09          ...                                            0   \n",
       "2015-07-09          ...                                            0   \n",
       "2015-10-02          ...                                            0   \n",
       "\n",
       "            PdDistrict_CENTRAL  PdDistrict_INGLESIDE  PdDistrict_MISSION  \\\n",
       "Date                                                                       \n",
       "2015-07-09                   0                     0                   0   \n",
       "2015-07-09                   0                     0                   0   \n",
       "2015-07-09                   0                     0                   0   \n",
       "2015-07-09                   0                     0                   0   \n",
       "2015-10-02                   0                     0                   0   \n",
       "\n",
       "            PdDistrict_NORTHERN  PdDistrict_PARK  PdDistrict_RICHMOND  \\\n",
       "Date                                                                    \n",
       "2015-07-09                    1                0                    0   \n",
       "2015-07-09                    1                0                    0   \n",
       "2015-07-09                    1                0                    0   \n",
       "2015-07-09                    1                0                    0   \n",
       "2015-10-02                    0                0                    0   \n",
       "\n",
       "            PdDistrict_SOUTHERN  PdDistrict_TARAVAL  PdDistrict_TENDERLOIN  \n",
       "Date                                                                        \n",
       "2015-07-09                    0                   0                      0  \n",
       "2015-07-09                    0                   0                      0  \n",
       "2015-07-09                    0                   0                      0  \n",
       "2015-07-09                    0                   0                      0  \n",
       "2015-10-02                    0                   1                      0  \n",
       "\n",
       "[5 rows x 770 columns]"
      ]
     },
     "execution_count": 53,
     "metadata": {},
     "output_type": "execute_result"
    }
   ],
   "source": [
    "DayofWeek_dummies=pd.get_dummies(incidents.DayOfWeek, prefix ='DOW')\n",
    "DayofWeek_dummies.drop(DayofWeek_dummies.columns[0], axis=1, inplace=True)\n",
    "\n",
    "Category_dummies=pd.get_dummies(incidents.Category, prefix ='C')\n",
    "Category_dummies.drop(Category_dummies.columns[0], axis=1, inplace=True)\n",
    "\n",
    "Descript_dummies=pd.get_dummies(incidents.Descript, prefix ='Descript')\n",
    "Descript_dummies.drop(Descript_dummies.columns[0], axis=1, inplace=True)\n",
    "\n",
    "PdDistrict_dummies=pd.get_dummies(incidents.PdDistrict, prefix ='PdDistrict')\n",
    "PdDistrict_dummies.drop(PdDistrict_dummies.columns[0], axis=1, inplace=True)\n",
    "\n",
    "incidents1 = pd.concat([DayofWeek_dummies, Category_dummies, Descript_dummies, PdDistrict_dummies], axis=1)\n",
    "incidents1.head()\n",
    "\n",
    "\n"
   ]
  },
  {
   "cell_type": "code",
   "execution_count": 54,
   "metadata": {
    "collapsed": false
   },
   "outputs": [
    {
     "data": {
      "text/plain": [
       "Date\n",
       "2015-07-09           ARREST, BOOKED\n",
       "2015-07-09           ARREST, BOOKED\n",
       "2015-07-09           ARREST, BOOKED\n",
       "2015-07-09           ARREST, BOOKED\n",
       "2015-10-02           ARREST, BOOKED\n",
       "2015-10-02           ARREST, BOOKED\n",
       "2015-10-02           ARREST, BOOKED\n",
       "2015-10-02           ARREST, BOOKED\n",
       "2016-02-05           ARREST, BOOKED\n",
       "2016-02-05           ARREST, BOOKED\n",
       "2016-01-14           ARREST, BOOKED\n",
       "2016-01-14           ARREST, BOOKED\n",
       "2015-11-05    EXCEPTIONAL CLEARANCE\n",
       "2015-11-05    EXCEPTIONAL CLEARANCE\n",
       "2015-10-26           ARREST, BOOKED\n",
       "2015-10-26           ARREST, BOOKED\n",
       "2015-10-26           ARREST, BOOKED\n",
       "2015-10-01           ARREST, BOOKED\n",
       "2015-10-01           ARREST, BOOKED\n",
       "2015-10-01           ARREST, BOOKED\n",
       "2015-10-01           ARREST, BOOKED\n",
       "2015-08-22           ARREST, BOOKED\n",
       "2015-08-22           ARREST, BOOKED\n",
       "2015-08-22           ARREST, BOOKED\n",
       "2015-11-20           ARREST, BOOKED\n",
       "2015-11-20           ARREST, BOOKED\n",
       "2015-11-20           ARREST, BOOKED\n",
       "2015-11-20           ARREST, BOOKED\n",
       "2015-07-18                     NONE\n",
       "2015-10-28                     NONE\n",
       "                      ...          \n",
       "2016-02-15                     NONE\n",
       "2016-02-15                     NONE\n",
       "2016-02-15           ARREST, BOOKED\n",
       "2016-02-15                     NONE\n",
       "2015-11-06           ARREST, BOOKED\n",
       "2015-12-14           ARREST, BOOKED\n",
       "2016-02-08                     NONE\n",
       "2016-02-15                     NONE\n",
       "2016-02-15                     NONE\n",
       "2016-02-15                     NONE\n",
       "2016-02-15           ARREST, BOOKED\n",
       "2016-02-15           ARREST, BOOKED\n",
       "2016-02-15           ARREST, BOOKED\n",
       "2016-02-15           ARREST, BOOKED\n",
       "2016-02-15          JUVENILE BOOKED\n",
       "2016-02-29                     NONE\n",
       "2016-03-01                     NONE\n",
       "2016-04-16                     NONE\n",
       "2016-04-17                     NONE\n",
       "2016-02-03                     NONE\n",
       "2016-02-24                     NONE\n",
       "2016-03-14                     NONE\n",
       "2016-03-31                     NONE\n",
       "2016-04-08                     NONE\n",
       "2016-04-16                     NONE\n",
       "2015-06-10                     NONE\n",
       "2016-03-28                     NONE\n",
       "2016-02-24    EXCEPTIONAL CLEARANCE\n",
       "2016-02-24    EXCEPTIONAL CLEARANCE\n",
       "2015-09-30           ARREST, BOOKED\n",
       "Name: Resolution, dtype: object"
      ]
     },
     "execution_count": 54,
     "metadata": {},
     "output_type": "execute_result"
    }
   ],
   "source": [
    "incidents['Resolution']"
   ]
  },
  {
   "cell_type": "code",
   "execution_count": 32,
   "metadata": {
    "collapsed": false
   },
   "outputs": [],
   "source": [
    "#map resolution\n",
    "all_else = ['UNFOUNDED','JUVENILE BOOKED','ARREST, CITED','EXCEPTIONAL CLEARANCE','CLEARED-CONTACT JUVENILE FOR MORE INFO','PSYCHOPATHIC CASE','LOCATED','NOT PROSECUTED','JUVENILE DIVERTED','COMPLAINANT REFUSES TO PROSECUTE']\n",
    "all_else = {k: 2 for k in all_else}"
   ]
  },
  {
   "cell_type": "code",
   "execution_count": 33,
   "metadata": {
    "collapsed": false
   },
   "outputs": [],
   "source": [
    "all_else['NONE'] = 0"
   ]
  },
  {
   "cell_type": "code",
   "execution_count": 34,
   "metadata": {
    "collapsed": true
   },
   "outputs": [],
   "source": [
    "all_else['ARREST, BOOKED'] = 1"
   ]
  },
  {
   "cell_type": "code",
   "execution_count": 55,
   "metadata": {
    "collapsed": false
   },
   "outputs": [],
   "source": [
    "#map resolution\n",
    "incidents['Resolution_new'] = incidents['Resolution'].map(all_else)"
   ]
  },
  {
   "cell_type": "code",
   "execution_count": 75,
   "metadata": {
    "collapsed": false
   },
   "outputs": [
    {
     "data": {
      "text/html": [
       "<div>\n",
       "<table border=\"1\" class=\"dataframe\">\n",
       "  <thead>\n",
       "    <tr style=\"text-align: right;\">\n",
       "      <th></th>\n",
       "      <th>IncidntNum</th>\n",
       "      <th>Category</th>\n",
       "      <th>Descript</th>\n",
       "      <th>DayOfWeek</th>\n",
       "      <th>Date</th>\n",
       "      <th>Time</th>\n",
       "      <th>PdDistrict</th>\n",
       "      <th>Resolution</th>\n",
       "      <th>Address</th>\n",
       "      <th>X</th>\n",
       "      <th>Y</th>\n",
       "      <th>Location</th>\n",
       "      <th>PdId</th>\n",
       "      <th>Year</th>\n",
       "      <th>Month</th>\n",
       "      <th>Resolution_new</th>\n",
       "    </tr>\n",
       "    <tr>\n",
       "      <th>Date</th>\n",
       "      <th></th>\n",
       "      <th></th>\n",
       "      <th></th>\n",
       "      <th></th>\n",
       "      <th></th>\n",
       "      <th></th>\n",
       "      <th></th>\n",
       "      <th></th>\n",
       "      <th></th>\n",
       "      <th></th>\n",
       "      <th></th>\n",
       "      <th></th>\n",
       "      <th></th>\n",
       "      <th></th>\n",
       "      <th></th>\n",
       "      <th></th>\n",
       "    </tr>\n",
       "  </thead>\n",
       "  <tbody>\n",
       "    <tr>\n",
       "      <th>2015-07-18</th>\n",
       "      <td>126101083</td>\n",
       "      <td>LARCENY/THEFT</td>\n",
       "      <td>PETTY THEFT OF PROPERTY</td>\n",
       "      <td>Saturday</td>\n",
       "      <td>2015-07-18</td>\n",
       "      <td>11:35</td>\n",
       "      <td>PARK</td>\n",
       "      <td>NONE</td>\n",
       "      <td>2200 Block of OFARRELL ST</td>\n",
       "      <td>-122.441325</td>\n",
       "      <td>37.782291</td>\n",
       "      <td>(37.7822914617391, -122.441324830173)</td>\n",
       "      <td>12610108306372</td>\n",
       "      <td>2015</td>\n",
       "      <td>7</td>\n",
       "      <td>0</td>\n",
       "    </tr>\n",
       "    <tr>\n",
       "      <th>2015-10-28</th>\n",
       "      <td>130088372</td>\n",
       "      <td>VEHICLE THEFT</td>\n",
       "      <td>STOLEN AUTOMOBILE</td>\n",
       "      <td>Wednesday</td>\n",
       "      <td>2015-10-28</td>\n",
       "      <td>12:30</td>\n",
       "      <td>TARAVAL</td>\n",
       "      <td>NONE</td>\n",
       "      <td>2400 Block of OCEAN AV</td>\n",
       "      <td>-122.471004</td>\n",
       "      <td>37.730591</td>\n",
       "      <td>(37.7305910212673, -122.471004410599)</td>\n",
       "      <td>13008837207021</td>\n",
       "      <td>2015</td>\n",
       "      <td>10</td>\n",
       "      <td>0</td>\n",
       "    </tr>\n",
       "    <tr>\n",
       "      <th>2016-03-26</th>\n",
       "      <td>130190030</td>\n",
       "      <td>OTHER OFFENSES</td>\n",
       "      <td>LOST/STOLEN LICENSE PLATE</td>\n",
       "      <td>Saturday</td>\n",
       "      <td>2016-03-26</td>\n",
       "      <td>14:03</td>\n",
       "      <td>PARK</td>\n",
       "      <td>NONE</td>\n",
       "      <td>500 Block of PARNASSUS AV</td>\n",
       "      <td>-122.458221</td>\n",
       "      <td>37.763312</td>\n",
       "      <td>(37.7633123961354, -122.458220811697)</td>\n",
       "      <td>13019003071010</td>\n",
       "      <td>2016</td>\n",
       "      <td>3</td>\n",
       "      <td>0</td>\n",
       "    </tr>\n",
       "    <tr>\n",
       "      <th>2016-03-26</th>\n",
       "      <td>130190030</td>\n",
       "      <td>NON-CRIMINAL</td>\n",
       "      <td>LICENSE PLATE, RECOVERED</td>\n",
       "      <td>Saturday</td>\n",
       "      <td>2016-03-26</td>\n",
       "      <td>14:03</td>\n",
       "      <td>PARK</td>\n",
       "      <td>NONE</td>\n",
       "      <td>500 Block of PARNASSUS AV</td>\n",
       "      <td>-122.458221</td>\n",
       "      <td>37.763312</td>\n",
       "      <td>(37.7633123961354, -122.458220811697)</td>\n",
       "      <td>13019003071012</td>\n",
       "      <td>2016</td>\n",
       "      <td>3</td>\n",
       "      <td>0</td>\n",
       "    </tr>\n",
       "    <tr>\n",
       "      <th>2015-08-15</th>\n",
       "      <td>15013361</td>\n",
       "      <td>NON-CRIMINAL</td>\n",
       "      <td>FOUND PROPERTY</td>\n",
       "      <td>Saturday</td>\n",
       "      <td>2015-08-15</td>\n",
       "      <td>20:53</td>\n",
       "      <td>SOUTHERN</td>\n",
       "      <td>NONE</td>\n",
       "      <td>600 Block of 3RD ST</td>\n",
       "      <td>-122.393461</td>\n",
       "      <td>37.779498</td>\n",
       "      <td>(37.7794975702131, -122.393460953167)</td>\n",
       "      <td>1501336172000</td>\n",
       "      <td>2015</td>\n",
       "      <td>8</td>\n",
       "      <td>0</td>\n",
       "    </tr>\n",
       "    <tr>\n",
       "      <th>2016-03-10</th>\n",
       "      <td>150215981</td>\n",
       "      <td>NON-CRIMINAL</td>\n",
       "      <td>TRAFFIC ACCIDENT</td>\n",
       "      <td>Thursday</td>\n",
       "      <td>2016-03-10</td>\n",
       "      <td>17:12</td>\n",
       "      <td>MISSION</td>\n",
       "      <td>NONE</td>\n",
       "      <td>2500 Block of 23RD ST</td>\n",
       "      <td>-122.405248</td>\n",
       "      <td>37.754405</td>\n",
       "      <td>(37.754404748573, -122.405248327082)</td>\n",
       "      <td>15021598168050</td>\n",
       "      <td>2016</td>\n",
       "      <td>3</td>\n",
       "      <td>0</td>\n",
       "    </tr>\n",
       "    <tr>\n",
       "      <th>2015-09-16</th>\n",
       "      <td>150271080</td>\n",
       "      <td>LARCENY/THEFT</td>\n",
       "      <td>GRAND THEFT OF PROPERTY</td>\n",
       "      <td>Wednesday</td>\n",
       "      <td>2015-09-16</td>\n",
       "      <td>15:00</td>\n",
       "      <td>SOUTHERN</td>\n",
       "      <td>NONE</td>\n",
       "      <td>MARKET ST / 7TH ST</td>\n",
       "      <td>-122.412515</td>\n",
       "      <td>37.780478</td>\n",
       "      <td>(37.7804777480508, -122.412515341356)</td>\n",
       "      <td>15027108006374</td>\n",
       "      <td>2015</td>\n",
       "      <td>9</td>\n",
       "      <td>0</td>\n",
       "    </tr>\n",
       "    <tr>\n",
       "      <th>2015-10-15</th>\n",
       "      <td>150284544</td>\n",
       "      <td>LARCENY/THEFT</td>\n",
       "      <td>GRAND THEFT FROM A BUILDING</td>\n",
       "      <td>Thursday</td>\n",
       "      <td>2015-10-15</td>\n",
       "      <td>00:01</td>\n",
       "      <td>SOUTHERN</td>\n",
       "      <td>NONE</td>\n",
       "      <td>100 Block of OTIS ST</td>\n",
       "      <td>-122.420303</td>\n",
       "      <td>37.770897</td>\n",
       "      <td>(37.770896885856, -122.420303482492)</td>\n",
       "      <td>15028454406304</td>\n",
       "      <td>2015</td>\n",
       "      <td>10</td>\n",
       "      <td>0</td>\n",
       "    </tr>\n",
       "    <tr>\n",
       "      <th>2015-07-22</th>\n",
       "      <td>150313165</td>\n",
       "      <td>OTHER OFFENSES</td>\n",
       "      <td>FALSE PERSONATION</td>\n",
       "      <td>Wednesday</td>\n",
       "      <td>2015-07-22</td>\n",
       "      <td>00:01</td>\n",
       "      <td>NORTHERN</td>\n",
       "      <td>NONE</td>\n",
       "      <td>2300 Block of PACIFIC AV</td>\n",
       "      <td>-122.433916</td>\n",
       "      <td>37.793396</td>\n",
       "      <td>(37.7933961776201, -122.433915817274)</td>\n",
       "      <td>15031316509027</td>\n",
       "      <td>2015</td>\n",
       "      <td>7</td>\n",
       "      <td>0</td>\n",
       "    </tr>\n",
       "    <tr>\n",
       "      <th>2015-06-06</th>\n",
       "      <td>150375030</td>\n",
       "      <td>OTHER OFFENSES</td>\n",
       "      <td>DRIVERS LICENSE, SUSPENDED OR REVOKED</td>\n",
       "      <td>Saturday</td>\n",
       "      <td>2015-06-06</td>\n",
       "      <td>09:42</td>\n",
       "      <td>PARK</td>\n",
       "      <td>NONE</td>\n",
       "      <td>MARKET ST / HATTIE ST</td>\n",
       "      <td>-122.440987</td>\n",
       "      <td>37.761078</td>\n",
       "      <td>(37.7610778421189, -122.440986771557)</td>\n",
       "      <td>15037503065016</td>\n",
       "      <td>2015</td>\n",
       "      <td>6</td>\n",
       "      <td>0</td>\n",
       "    </tr>\n",
       "    <tr>\n",
       "      <th>2015-06-05</th>\n",
       "      <td>150393703</td>\n",
       "      <td>NON-CRIMINAL</td>\n",
       "      <td>CIVIL SIDEWALKS, WARNING</td>\n",
       "      <td>Friday</td>\n",
       "      <td>2015-06-05</td>\n",
       "      <td>12:20</td>\n",
       "      <td>NORTHERN</td>\n",
       "      <td>NONE</td>\n",
       "      <td>OLIVE ST / LARKIN ST</td>\n",
       "      <td>-122.417809</td>\n",
       "      <td>37.784710</td>\n",
       "      <td>(37.7847098968616, -122.4178091031)</td>\n",
       "      <td>15039370364001</td>\n",
       "      <td>2015</td>\n",
       "      <td>6</td>\n",
       "      <td>0</td>\n",
       "    </tr>\n",
       "    <tr>\n",
       "      <th>2015-06-09</th>\n",
       "      <td>150504198</td>\n",
       "      <td>ASSAULT</td>\n",
       "      <td>BATTERY</td>\n",
       "      <td>Tuesday</td>\n",
       "      <td>2015-06-09</td>\n",
       "      <td>16:18</td>\n",
       "      <td>INGLESIDE</td>\n",
       "      <td>NONE</td>\n",
       "      <td>100 Block of BALTIMORE WY</td>\n",
       "      <td>-122.433363</td>\n",
       "      <td>37.708518</td>\n",
       "      <td>(37.7085179068258, -122.433363325642)</td>\n",
       "      <td>15050419804134</td>\n",
       "      <td>2015</td>\n",
       "      <td>6</td>\n",
       "      <td>0</td>\n",
       "    </tr>\n",
       "  </tbody>\n",
       "</table>\n",
       "</div>"
      ],
      "text/plain": [
       "            IncidntNum        Category                               Descript  \\\n",
       "Date                                                                            \n",
       "2015-07-18   126101083   LARCENY/THEFT                PETTY THEFT OF PROPERTY   \n",
       "2015-10-28   130088372   VEHICLE THEFT                      STOLEN AUTOMOBILE   \n",
       "2016-03-26   130190030  OTHER OFFENSES              LOST/STOLEN LICENSE PLATE   \n",
       "2016-03-26   130190030    NON-CRIMINAL               LICENSE PLATE, RECOVERED   \n",
       "2015-08-15    15013361    NON-CRIMINAL                         FOUND PROPERTY   \n",
       "2016-03-10   150215981    NON-CRIMINAL                       TRAFFIC ACCIDENT   \n",
       "2015-09-16   150271080   LARCENY/THEFT                GRAND THEFT OF PROPERTY   \n",
       "2015-10-15   150284544   LARCENY/THEFT            GRAND THEFT FROM A BUILDING   \n",
       "2015-07-22   150313165  OTHER OFFENSES                      FALSE PERSONATION   \n",
       "2015-06-06   150375030  OTHER OFFENSES  DRIVERS LICENSE, SUSPENDED OR REVOKED   \n",
       "2015-06-05   150393703    NON-CRIMINAL               CIVIL SIDEWALKS, WARNING   \n",
       "2015-06-09   150504198         ASSAULT                                BATTERY   \n",
       "\n",
       "            DayOfWeek       Date   Time PdDistrict Resolution  \\\n",
       "Date                                                            \n",
       "2015-07-18   Saturday 2015-07-18  11:35       PARK       NONE   \n",
       "2015-10-28  Wednesday 2015-10-28  12:30    TARAVAL       NONE   \n",
       "2016-03-26   Saturday 2016-03-26  14:03       PARK       NONE   \n",
       "2016-03-26   Saturday 2016-03-26  14:03       PARK       NONE   \n",
       "2015-08-15   Saturday 2015-08-15  20:53   SOUTHERN       NONE   \n",
       "2016-03-10   Thursday 2016-03-10  17:12    MISSION       NONE   \n",
       "2015-09-16  Wednesday 2015-09-16  15:00   SOUTHERN       NONE   \n",
       "2015-10-15   Thursday 2015-10-15  00:01   SOUTHERN       NONE   \n",
       "2015-07-22  Wednesday 2015-07-22  00:01   NORTHERN       NONE   \n",
       "2015-06-06   Saturday 2015-06-06  09:42       PARK       NONE   \n",
       "2015-06-05     Friday 2015-06-05  12:20   NORTHERN       NONE   \n",
       "2015-06-09    Tuesday 2015-06-09  16:18  INGLESIDE       NONE   \n",
       "\n",
       "                              Address           X          Y  \\\n",
       "Date                                                           \n",
       "2015-07-18  2200 Block of OFARRELL ST -122.441325  37.782291   \n",
       "2015-10-28     2400 Block of OCEAN AV -122.471004  37.730591   \n",
       "2016-03-26  500 Block of PARNASSUS AV -122.458221  37.763312   \n",
       "2016-03-26  500 Block of PARNASSUS AV -122.458221  37.763312   \n",
       "2015-08-15        600 Block of 3RD ST -122.393461  37.779498   \n",
       "2016-03-10      2500 Block of 23RD ST -122.405248  37.754405   \n",
       "2015-09-16         MARKET ST / 7TH ST -122.412515  37.780478   \n",
       "2015-10-15       100 Block of OTIS ST -122.420303  37.770897   \n",
       "2015-07-22   2300 Block of PACIFIC AV -122.433916  37.793396   \n",
       "2015-06-06      MARKET ST / HATTIE ST -122.440987  37.761078   \n",
       "2015-06-05       OLIVE ST / LARKIN ST -122.417809  37.784710   \n",
       "2015-06-09  100 Block of BALTIMORE WY -122.433363  37.708518   \n",
       "\n",
       "                                         Location            PdId  Year  \\\n",
       "Date                                                                      \n",
       "2015-07-18  (37.7822914617391, -122.441324830173)  12610108306372  2015   \n",
       "2015-10-28  (37.7305910212673, -122.471004410599)  13008837207021  2015   \n",
       "2016-03-26  (37.7633123961354, -122.458220811697)  13019003071010  2016   \n",
       "2016-03-26  (37.7633123961354, -122.458220811697)  13019003071012  2016   \n",
       "2015-08-15  (37.7794975702131, -122.393460953167)   1501336172000  2015   \n",
       "2016-03-10   (37.754404748573, -122.405248327082)  15021598168050  2016   \n",
       "2015-09-16  (37.7804777480508, -122.412515341356)  15027108006374  2015   \n",
       "2015-10-15   (37.770896885856, -122.420303482492)  15028454406304  2015   \n",
       "2015-07-22  (37.7933961776201, -122.433915817274)  15031316509027  2015   \n",
       "2015-06-06  (37.7610778421189, -122.440986771557)  15037503065016  2015   \n",
       "2015-06-05    (37.7847098968616, -122.4178091031)  15039370364001  2015   \n",
       "2015-06-09  (37.7085179068258, -122.433363325642)  15050419804134  2015   \n",
       "\n",
       "            Month  Resolution_new  \n",
       "Date                               \n",
       "2015-07-18      7               0  \n",
       "2015-10-28     10               0  \n",
       "2016-03-26      3               0  \n",
       "2016-03-26      3               0  \n",
       "2015-08-15      8               0  \n",
       "2016-03-10      3               0  \n",
       "2015-09-16      9               0  \n",
       "2015-10-15     10               0  \n",
       "2015-07-22      7               0  \n",
       "2015-06-06      6               0  \n",
       "2015-06-05      6               0  \n",
       "2015-06-09      6               0  "
      ]
     },
     "execution_count": 75,
     "metadata": {},
     "output_type": "execute_result"
    }
   ],
   "source": [
    "incidents[incidents['Resolution_new'] == 0].head(12)"
   ]
  },
  {
   "cell_type": "code",
   "execution_count": 102,
   "metadata": {
    "collapsed": false
   },
   "outputs": [],
   "source": [
    "incidents1['resolution'] = incidents[\"Resolution_new\"]"
   ]
  },
  {
   "cell_type": "code",
   "execution_count": 103,
   "metadata": {
    "collapsed": false
   },
   "outputs": [
    {
     "data": {
      "text/plain": [
       "770"
      ]
     },
     "execution_count": 103,
     "metadata": {},
     "output_type": "execute_result"
    }
   ],
   "source": [
    "incidents1.columns.tolist().index('resolution')"
   ]
  },
  {
   "cell_type": "code",
   "execution_count": 127,
   "metadata": {
    "collapsed": true
   },
   "outputs": [],
   "source": [
    "feature_columns = incidents1.columns.tolist()[:770:]"
   ]
  },
  {
   "cell_type": "code",
   "execution_count": 131,
   "metadata": {
    "collapsed": false
   },
   "outputs": [],
   "source": [
    "x = incidents1[feature_columns]\n",
    "y = incidents1.resolution"
   ]
  },
  {
   "cell_type": "code",
   "execution_count": 132,
   "metadata": {
    "collapsed": false
   },
   "outputs": [],
   "source": [
    "from sklearn.cross_validation import train_test_split\n",
    "x_train, x_test, y_train, y_test = train_test_split (x, y)"
   ]
  },
  {
   "cell_type": "code",
   "execution_count": 134,
   "metadata": {
    "collapsed": false
   },
   "outputs": [
    {
     "data": {
      "text/plain": [
       "RandomForestClassifier(bootstrap=True, class_weight=None, criterion='gini',\n",
       "            max_depth=None, max_features='auto', max_leaf_nodes=None,\n",
       "            min_samples_leaf=1, min_samples_split=2,\n",
       "            min_weight_fraction_leaf=0.0, n_estimators=10, n_jobs=1,\n",
       "            oob_score=False, random_state=None, verbose=0,\n",
       "            warm_start=False)"
      ]
     },
     "execution_count": 134,
     "metadata": {},
     "output_type": "execute_result"
    }
   ],
   "source": [
    "from sklearn.ensemble import RandomForestClassifier \n",
    "rfreg = RandomForestClassifier()\n",
    "rfreg.fit(x_train, y_train)"
   ]
  },
  {
   "cell_type": "code",
   "execution_count": 135,
   "metadata": {
    "collapsed": false
   },
   "outputs": [],
   "source": [
    "z=rfreg.predict(x_test)"
   ]
  },
  {
   "cell_type": "code",
   "execution_count": 136,
   "metadata": {
    "collapsed": false
   },
   "outputs": [
    {
     "name": "stdout",
     "output_type": "stream",
     "text": [
      "34367\n"
     ]
    }
   ],
   "source": [
    "print len(y_test)\n"
   ]
  },
  {
   "cell_type": "code",
   "execution_count": 137,
   "metadata": {
    "collapsed": false
   },
   "outputs": [
    {
     "name": "stdout",
     "output_type": "stream",
     "text": [
      "[[22735  1371    97]\n",
      " [ 2249  6888    47]\n",
      " [  574   293   113]]\n"
     ]
    }
   ],
   "source": [
    "from sklearn import metrics\n",
    "print metrics.confusion_matrix(y_test, z)"
   ]
  },
  {
   "cell_type": "code",
   "execution_count": 145,
   "metadata": {
    "collapsed": false
   },
   "outputs": [
    {
     "data": {
      "text/plain": [
       "0.86524863968341725"
      ]
     },
     "execution_count": 145,
     "metadata": {},
     "output_type": "execute_result"
    }
   ],
   "source": [
    "from sklearn.metrics import accuracy_score\n",
    "accuracy_score(y_test, z)"
   ]
  },
  {
   "cell_type": "code",
   "execution_count": 140,
   "metadata": {
    "collapsed": false
   },
   "outputs": [
    {
     "name": "stdout",
     "output_type": "stream",
     "text": [
      "34367 34367\n"
     ]
    }
   ],
   "source": [
    "print len(z), len(y_test)"
   ]
  },
  {
   "cell_type": "code",
   "execution_count": null,
   "metadata": {
    "collapsed": true
   },
   "outputs": [],
   "source": []
  },
  {
   "cell_type": "code",
   "execution_count": 61,
   "metadata": {
    "collapsed": false
   },
   "outputs": [
    {
     "data": {
      "text/plain": [
       "RandomForestRegressor(bootstrap=True, criterion='mse', max_depth=None,\n",
       "           max_features='auto', max_leaf_nodes=None, min_samples_leaf=1,\n",
       "           min_samples_split=2, min_weight_fraction_leaf=0.0,\n",
       "           n_estimators=10, n_jobs=1, oob_score=False, random_state=None,\n",
       "           verbose=0, warm_start=False)"
      ]
     },
     "execution_count": 61,
     "metadata": {},
     "output_type": "execute_result"
    }
   ],
   "source": []
  },
  {
   "cell_type": "code",
   "execution_count": 58,
   "metadata": {
    "collapsed": false
   },
   "outputs": [],
   "source": [
    "new_df = pd.concat([incidents1, incidents])"
   ]
  },
  {
   "cell_type": "code",
   "execution_count": 59,
   "metadata": {
    "collapsed": false
   },
   "outputs": [
    {
     "data": {
      "text/html": [
       "<div>\n",
       "<table border=\"1\" class=\"dataframe\">\n",
       "  <thead>\n",
       "    <tr style=\"text-align: right;\">\n",
       "      <th></th>\n",
       "      <th>Address</th>\n",
       "      <th>C_ASSAULT</th>\n",
       "      <th>C_BAD CHECKS</th>\n",
       "      <th>C_BRIBERY</th>\n",
       "      <th>C_BURGLARY</th>\n",
       "      <th>C_DISORDERLY CONDUCT</th>\n",
       "      <th>C_DRIVING UNDER THE INFLUENCE</th>\n",
       "      <th>C_DRUG/NARCOTIC</th>\n",
       "      <th>C_DRUNKENNESS</th>\n",
       "      <th>C_EMBEZZLEMENT</th>\n",
       "      <th>...</th>\n",
       "      <th>PdDistrict_SOUTHERN</th>\n",
       "      <th>PdDistrict_TARAVAL</th>\n",
       "      <th>PdDistrict_TENDERLOIN</th>\n",
       "      <th>PdId</th>\n",
       "      <th>Resolution</th>\n",
       "      <th>Resolution_new</th>\n",
       "      <th>Time</th>\n",
       "      <th>X</th>\n",
       "      <th>Y</th>\n",
       "      <th>Year</th>\n",
       "    </tr>\n",
       "    <tr>\n",
       "      <th>Date</th>\n",
       "      <th></th>\n",
       "      <th></th>\n",
       "      <th></th>\n",
       "      <th></th>\n",
       "      <th></th>\n",
       "      <th></th>\n",
       "      <th></th>\n",
       "      <th></th>\n",
       "      <th></th>\n",
       "      <th></th>\n",
       "      <th></th>\n",
       "      <th></th>\n",
       "      <th></th>\n",
       "      <th></th>\n",
       "      <th></th>\n",
       "      <th></th>\n",
       "      <th></th>\n",
       "      <th></th>\n",
       "      <th></th>\n",
       "      <th></th>\n",
       "      <th></th>\n",
       "    </tr>\n",
       "  </thead>\n",
       "  <tbody>\n",
       "    <tr>\n",
       "      <th>2015-07-09</th>\n",
       "      <td>NaN</td>\n",
       "      <td>0</td>\n",
       "      <td>0</td>\n",
       "      <td>0</td>\n",
       "      <td>0</td>\n",
       "      <td>0</td>\n",
       "      <td>0</td>\n",
       "      <td>0</td>\n",
       "      <td>0</td>\n",
       "      <td>0</td>\n",
       "      <td>...</td>\n",
       "      <td>0</td>\n",
       "      <td>0</td>\n",
       "      <td>0</td>\n",
       "      <td>NaN</td>\n",
       "      <td>NaN</td>\n",
       "      <td>NaN</td>\n",
       "      <td>NaN</td>\n",
       "      <td>NaN</td>\n",
       "      <td>NaN</td>\n",
       "      <td>NaN</td>\n",
       "    </tr>\n",
       "    <tr>\n",
       "      <th>2015-07-09</th>\n",
       "      <td>NaN</td>\n",
       "      <td>1</td>\n",
       "      <td>0</td>\n",
       "      <td>0</td>\n",
       "      <td>0</td>\n",
       "      <td>0</td>\n",
       "      <td>0</td>\n",
       "      <td>0</td>\n",
       "      <td>0</td>\n",
       "      <td>0</td>\n",
       "      <td>...</td>\n",
       "      <td>0</td>\n",
       "      <td>0</td>\n",
       "      <td>0</td>\n",
       "      <td>NaN</td>\n",
       "      <td>NaN</td>\n",
       "      <td>NaN</td>\n",
       "      <td>NaN</td>\n",
       "      <td>NaN</td>\n",
       "      <td>NaN</td>\n",
       "      <td>NaN</td>\n",
       "    </tr>\n",
       "    <tr>\n",
       "      <th>2015-07-09</th>\n",
       "      <td>NaN</td>\n",
       "      <td>0</td>\n",
       "      <td>0</td>\n",
       "      <td>0</td>\n",
       "      <td>0</td>\n",
       "      <td>0</td>\n",
       "      <td>0</td>\n",
       "      <td>0</td>\n",
       "      <td>0</td>\n",
       "      <td>0</td>\n",
       "      <td>...</td>\n",
       "      <td>0</td>\n",
       "      <td>0</td>\n",
       "      <td>0</td>\n",
       "      <td>NaN</td>\n",
       "      <td>NaN</td>\n",
       "      <td>NaN</td>\n",
       "      <td>NaN</td>\n",
       "      <td>NaN</td>\n",
       "      <td>NaN</td>\n",
       "      <td>NaN</td>\n",
       "    </tr>\n",
       "    <tr>\n",
       "      <th>2015-07-09</th>\n",
       "      <td>NaN</td>\n",
       "      <td>0</td>\n",
       "      <td>0</td>\n",
       "      <td>0</td>\n",
       "      <td>0</td>\n",
       "      <td>0</td>\n",
       "      <td>0</td>\n",
       "      <td>0</td>\n",
       "      <td>0</td>\n",
       "      <td>0</td>\n",
       "      <td>...</td>\n",
       "      <td>0</td>\n",
       "      <td>0</td>\n",
       "      <td>0</td>\n",
       "      <td>NaN</td>\n",
       "      <td>NaN</td>\n",
       "      <td>NaN</td>\n",
       "      <td>NaN</td>\n",
       "      <td>NaN</td>\n",
       "      <td>NaN</td>\n",
       "      <td>NaN</td>\n",
       "    </tr>\n",
       "    <tr>\n",
       "      <th>2015-10-02</th>\n",
       "      <td>NaN</td>\n",
       "      <td>0</td>\n",
       "      <td>0</td>\n",
       "      <td>0</td>\n",
       "      <td>0</td>\n",
       "      <td>0</td>\n",
       "      <td>0</td>\n",
       "      <td>0</td>\n",
       "      <td>0</td>\n",
       "      <td>0</td>\n",
       "      <td>...</td>\n",
       "      <td>0</td>\n",
       "      <td>1</td>\n",
       "      <td>0</td>\n",
       "      <td>NaN</td>\n",
       "      <td>NaN</td>\n",
       "      <td>NaN</td>\n",
       "      <td>NaN</td>\n",
       "      <td>NaN</td>\n",
       "      <td>NaN</td>\n",
       "      <td>NaN</td>\n",
       "    </tr>\n",
       "  </tbody>\n",
       "</table>\n",
       "<p>5 rows × 786 columns</p>\n",
       "</div>"
      ],
      "text/plain": [
       "           Address  C_ASSAULT  C_BAD CHECKS  C_BRIBERY  C_BURGLARY  \\\n",
       "Date                                                                 \n",
       "2015-07-09     NaN          0             0          0           0   \n",
       "2015-07-09     NaN          1             0          0           0   \n",
       "2015-07-09     NaN          0             0          0           0   \n",
       "2015-07-09     NaN          0             0          0           0   \n",
       "2015-10-02     NaN          0             0          0           0   \n",
       "\n",
       "            C_DISORDERLY CONDUCT  C_DRIVING UNDER THE INFLUENCE  \\\n",
       "Date                                                              \n",
       "2015-07-09                     0                              0   \n",
       "2015-07-09                     0                              0   \n",
       "2015-07-09                     0                              0   \n",
       "2015-07-09                     0                              0   \n",
       "2015-10-02                     0                              0   \n",
       "\n",
       "            C_DRUG/NARCOTIC  C_DRUNKENNESS  C_EMBEZZLEMENT  ...   \\\n",
       "Date                                                        ...    \n",
       "2015-07-09                0              0               0  ...    \n",
       "2015-07-09                0              0               0  ...    \n",
       "2015-07-09                0              0               0  ...    \n",
       "2015-07-09                0              0               0  ...    \n",
       "2015-10-02                0              0               0  ...    \n",
       "\n",
       "            PdDistrict_SOUTHERN  PdDistrict_TARAVAL  PdDistrict_TENDERLOIN  \\\n",
       "Date                                                                         \n",
       "2015-07-09                    0                   0                      0   \n",
       "2015-07-09                    0                   0                      0   \n",
       "2015-07-09                    0                   0                      0   \n",
       "2015-07-09                    0                   0                      0   \n",
       "2015-10-02                    0                   1                      0   \n",
       "\n",
       "            PdId  Resolution  Resolution_new  Time   X   Y  Year  \n",
       "Date                                                              \n",
       "2015-07-09   NaN         NaN             NaN   NaN NaN NaN   NaN  \n",
       "2015-07-09   NaN         NaN             NaN   NaN NaN NaN   NaN  \n",
       "2015-07-09   NaN         NaN             NaN   NaN NaN NaN   NaN  \n",
       "2015-07-09   NaN         NaN             NaN   NaN NaN NaN   NaN  \n",
       "2015-10-02   NaN         NaN             NaN   NaN NaN NaN   NaN  \n",
       "\n",
       "[5 rows x 786 columns]"
      ]
     },
     "execution_count": 59,
     "metadata": {},
     "output_type": "execute_result"
    }
   ],
   "source": [
    "new_df.head()"
   ]
  },
  {
   "cell_type": "code",
   "execution_count": null,
   "metadata": {
    "collapsed": true
   },
   "outputs": [],
   "source": []
  }
 ],
 "metadata": {
  "kernelspec": {
   "display_name": "Python 2",
   "language": "python",
   "name": "python2"
  },
  "language_info": {
   "codemirror_mode": {
    "name": "ipython",
    "version": 2
   },
   "file_extension": ".py",
   "mimetype": "text/x-python",
   "name": "python",
   "nbconvert_exporter": "python",
   "pygments_lexer": "ipython2",
   "version": "2.7.11"
  }
 },
 "nbformat": 4,
 "nbformat_minor": 0
}
